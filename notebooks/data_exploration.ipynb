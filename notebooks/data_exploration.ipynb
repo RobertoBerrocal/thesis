{
 "cells": [
  {
   "cell_type": "code",
   "execution_count": 2,
   "id": "11f9eb42",
   "metadata": {},
   "outputs": [],
   "source": [
    "import pandas as pd\n",
    "import numpy as np\n",
    "import os\n",
    "import duckdb\n",
    "import datetime"
   ]
  },
  {
   "cell_type": "code",
   "execution_count": 3,
   "id": "e1bdaf95",
   "metadata": {},
   "outputs": [],
   "source": [
    "# dimension table\n",
    "product_master = pd.read_parquet('../dataset/parquet/PRODUCT_MASTER.parquet')\n",
    "store_master = pd.read_parquet('../dataset/parquet/STORE_MASTER.parquet')\n",
    "user_master = pd.read_parquet('../dataset/parquet/USER_MASTER.parquet')\n",
    "# fact tables\n",
    "operation_details = pd.read_parquet('../dataset/parquet/FACT_OPERATION_TABLE.parquet')\n",
    "order_details = pd.read_parquet('../dataset/parquet/FACT_ORDER_TABLE.parquet')"
   ]
  },
  {
   "cell_type": "code",
   "execution_count": 4,
   "id": "2e3fafed",
   "metadata": {},
   "outputs": [
    {
     "name": "stdout",
     "output_type": "stream",
     "text": [
      "Product Master Shape: (1549, 11)\n",
      "Store Master Shape: (84, 6)\n",
      "User Master Shape: (592830, 4)\n",
      "Operation Details Shape: (1430061, 22)\n",
      "Order Details Shape: (2060463, 31)\n"
     ]
    }
   ],
   "source": [
    "# print shape of each dataframe\n",
    "print(\"Product Master Shape:\", product_master.shape)\n",
    "print(\"Store Master Shape:\", store_master.shape)\n",
    "print(\"User Master Shape:\", user_master.shape)\n",
    "print(\"Operation Details Shape:\", operation_details.shape)\n",
    "print(\"Order Details Shape:\", order_details.shape)"
   ]
  },
  {
   "cell_type": "code",
   "execution_count": 5,
   "id": "82d9d7ea",
   "metadata": {},
   "outputs": [
    {
     "data": {
      "application/vnd.microsoft.datawrangler.viewer.v0+json": {
       "columns": [
        {
         "name": "index",
         "rawType": "int64",
         "type": "integer"
        },
        {
         "name": "SKU_ID",
         "rawType": "object",
         "type": "string"
        },
        {
         "name": "SKU_NAME",
         "rawType": "object",
         "type": "string"
        },
        {
         "name": "SKU_BRAND",
         "rawType": "object",
         "type": "string"
        },
        {
         "name": "SKU_CATEGORY",
         "rawType": "object",
         "type": "string"
        },
        {
         "name": "SKU_SUBCATEGORY",
         "rawType": "object",
         "type": "string"
        },
        {
         "name": "SKU_RETURNABLE_CONTAINER",
         "rawType": "object",
         "type": "unknown"
        },
        {
         "name": "SKU_ALCOHOLIC",
         "rawType": "int64",
         "type": "integer"
        },
        {
         "name": "SKU_OWN_CATALOG",
         "rawType": "int64",
         "type": "integer"
        },
        {
         "name": "SKU_CONTAINER",
         "rawType": "object",
         "type": "string"
        },
        {
         "name": "SKU_IS_RETURNABLE",
         "rawType": "object",
         "type": "string"
        },
        {
         "name": "SKU_IS_BUNDLE",
         "rawType": "int64",
         "type": "integer"
        }
       ],
       "ref": "1cda64ca-19df-40a6-92b4-b9b720a530ae",
       "rows": [
        [
         "0",
         "fbae0786652f83ddc651d0cd36188b40103f33d9b5ff7f1f2554e1e3cd749890",
         "(2) Beer Budweiser Bottle 343 ml 6 un",
         "Budweiser",
         "Beer",
         "Beer",
         null,
         "1",
         "1",
         "NRB",
         "false",
         "0"
        ],
        [
         "1",
         "b33722a436bb87d876e490d347a15c32cc6a61b61725e4e75805549b22b48989",
         "Paulaner Weiss Can (269ml) Pack x 6",
         "Paulaner",
         "Beer",
         "Beer",
         null,
         "1",
         "1",
         "CAN",
         "0",
         "0"
        ],
        [
         "2",
         "9c73ed825c15f3587dbaae07e4f01c8fb152cf2d5f0d2c8d6623d7a8f7a0c47b",
         "(1) Beer Pilsator Can 355 ml 6 un",
         "Pilsator",
         "Beer",
         "Beer",
         null,
         "1",
         "1",
         "CAN",
         "0",
         "0"
        ],
        [
         "3",
         "8c76e6477fec2c1b69a8c5026b885352da383f1d3dc6379fb44e84b28421ff61",
         "(1) Beer San Miguel Can 355 ml 6 un",
         "San Miguel",
         "Beer",
         "Beer",
         null,
         "1",
         "1",
         "CAN",
         "false",
         "0"
        ],
        [
         "4",
         "8084efed817688b3b61a3a9ee104e0d08476e6b9b0fdf9869175613402b92048",
         "(1) Energy drink Red Bull Can 250 ml 1 un",
         "Red Bull",
         "Drinks",
         "Energy Drink",
         null,
         "0",
         "0",
         "-",
         "false",
         "0"
        ]
       ],
       "shape": {
        "columns": 11,
        "rows": 5
       }
      },
      "text/html": [
       "<div>\n",
       "<style scoped>\n",
       "    .dataframe tbody tr th:only-of-type {\n",
       "        vertical-align: middle;\n",
       "    }\n",
       "\n",
       "    .dataframe tbody tr th {\n",
       "        vertical-align: top;\n",
       "    }\n",
       "\n",
       "    .dataframe thead th {\n",
       "        text-align: right;\n",
       "    }\n",
       "</style>\n",
       "<table border=\"1\" class=\"dataframe\">\n",
       "  <thead>\n",
       "    <tr style=\"text-align: right;\">\n",
       "      <th></th>\n",
       "      <th>SKU_ID</th>\n",
       "      <th>SKU_NAME</th>\n",
       "      <th>SKU_BRAND</th>\n",
       "      <th>SKU_CATEGORY</th>\n",
       "      <th>SKU_SUBCATEGORY</th>\n",
       "      <th>SKU_RETURNABLE_CONTAINER</th>\n",
       "      <th>SKU_ALCOHOLIC</th>\n",
       "      <th>SKU_OWN_CATALOG</th>\n",
       "      <th>SKU_CONTAINER</th>\n",
       "      <th>SKU_IS_RETURNABLE</th>\n",
       "      <th>SKU_IS_BUNDLE</th>\n",
       "    </tr>\n",
       "  </thead>\n",
       "  <tbody>\n",
       "    <tr>\n",
       "      <th>0</th>\n",
       "      <td>fbae0786652f83ddc651d0cd36188b40103f33d9b5ff7f...</td>\n",
       "      <td>(2) Beer Budweiser Bottle 343 ml 6 un</td>\n",
       "      <td>Budweiser</td>\n",
       "      <td>Beer</td>\n",
       "      <td>Beer</td>\n",
       "      <td>None</td>\n",
       "      <td>1</td>\n",
       "      <td>1</td>\n",
       "      <td>NRB</td>\n",
       "      <td>false</td>\n",
       "      <td>0</td>\n",
       "    </tr>\n",
       "    <tr>\n",
       "      <th>1</th>\n",
       "      <td>b33722a436bb87d876e490d347a15c32cc6a61b61725e4...</td>\n",
       "      <td>Paulaner Weiss Can (269ml) Pack x 6</td>\n",
       "      <td>Paulaner</td>\n",
       "      <td>Beer</td>\n",
       "      <td>Beer</td>\n",
       "      <td>None</td>\n",
       "      <td>1</td>\n",
       "      <td>1</td>\n",
       "      <td>CAN</td>\n",
       "      <td>0</td>\n",
       "      <td>0</td>\n",
       "    </tr>\n",
       "    <tr>\n",
       "      <th>2</th>\n",
       "      <td>9c73ed825c15f3587dbaae07e4f01c8fb152cf2d5f0d2c...</td>\n",
       "      <td>(1) Beer Pilsator Can 355 ml 6 un</td>\n",
       "      <td>Pilsator</td>\n",
       "      <td>Beer</td>\n",
       "      <td>Beer</td>\n",
       "      <td>None</td>\n",
       "      <td>1</td>\n",
       "      <td>1</td>\n",
       "      <td>CAN</td>\n",
       "      <td>0</td>\n",
       "      <td>0</td>\n",
       "    </tr>\n",
       "    <tr>\n",
       "      <th>3</th>\n",
       "      <td>8c76e6477fec2c1b69a8c5026b885352da383f1d3dc637...</td>\n",
       "      <td>(1) Beer San Miguel Can 355 ml 6 un</td>\n",
       "      <td>San Miguel</td>\n",
       "      <td>Beer</td>\n",
       "      <td>Beer</td>\n",
       "      <td>None</td>\n",
       "      <td>1</td>\n",
       "      <td>1</td>\n",
       "      <td>CAN</td>\n",
       "      <td>false</td>\n",
       "      <td>0</td>\n",
       "    </tr>\n",
       "    <tr>\n",
       "      <th>4</th>\n",
       "      <td>8084efed817688b3b61a3a9ee104e0d08476e6b9b0fdf9...</td>\n",
       "      <td>(1) Energy drink Red Bull Can 250 ml 1 un</td>\n",
       "      <td>Red Bull</td>\n",
       "      <td>Drinks</td>\n",
       "      <td>Energy Drink</td>\n",
       "      <td>None</td>\n",
       "      <td>0</td>\n",
       "      <td>0</td>\n",
       "      <td>-</td>\n",
       "      <td>false</td>\n",
       "      <td>0</td>\n",
       "    </tr>\n",
       "  </tbody>\n",
       "</table>\n",
       "</div>"
      ],
      "text/plain": [
       "                                              SKU_ID  \\\n",
       "0  fbae0786652f83ddc651d0cd36188b40103f33d9b5ff7f...   \n",
       "1  b33722a436bb87d876e490d347a15c32cc6a61b61725e4...   \n",
       "2  9c73ed825c15f3587dbaae07e4f01c8fb152cf2d5f0d2c...   \n",
       "3  8c76e6477fec2c1b69a8c5026b885352da383f1d3dc637...   \n",
       "4  8084efed817688b3b61a3a9ee104e0d08476e6b9b0fdf9...   \n",
       "\n",
       "                                    SKU_NAME   SKU_BRAND SKU_CATEGORY  \\\n",
       "0      (2) Beer Budweiser Bottle 343 ml 6 un   Budweiser         Beer   \n",
       "1        Paulaner Weiss Can (269ml) Pack x 6    Paulaner         Beer   \n",
       "2          (1) Beer Pilsator Can 355 ml 6 un    Pilsator         Beer   \n",
       "3        (1) Beer San Miguel Can 355 ml 6 un  San Miguel         Beer   \n",
       "4  (1) Energy drink Red Bull Can 250 ml 1 un    Red Bull       Drinks   \n",
       "\n",
       "  SKU_SUBCATEGORY SKU_RETURNABLE_CONTAINER  SKU_ALCOHOLIC  SKU_OWN_CATALOG  \\\n",
       "0            Beer                     None              1                1   \n",
       "1            Beer                     None              1                1   \n",
       "2            Beer                     None              1                1   \n",
       "3            Beer                     None              1                1   \n",
       "4    Energy Drink                     None              0                0   \n",
       "\n",
       "  SKU_CONTAINER SKU_IS_RETURNABLE  SKU_IS_BUNDLE  \n",
       "0           NRB             false              0  \n",
       "1           CAN                 0              0  \n",
       "2           CAN                 0              0  \n",
       "3           CAN             false              0  \n",
       "4             -             false              0  "
      ]
     },
     "execution_count": 5,
     "metadata": {},
     "output_type": "execute_result"
    }
   ],
   "source": [
    "product_master.head()"
   ]
  },
  {
   "cell_type": "code",
   "execution_count": 6,
   "id": "2da9afa1",
   "metadata": {},
   "outputs": [
    {
     "data": {
      "application/vnd.microsoft.datawrangler.viewer.v0+json": {
       "columns": [
        {
         "name": "index",
         "rawType": "int64",
         "type": "integer"
        },
        {
         "name": "STORE_ID",
         "rawType": "object",
         "type": "string"
        },
        {
         "name": "STORE_NAME",
         "rawType": "object",
         "type": "string"
        },
        {
         "name": "STATUS",
         "rawType": "object",
         "type": "string"
        },
        {
         "name": "CITY",
         "rawType": "object",
         "type": "string"
        },
        {
         "name": "PREFIX",
         "rawType": "object",
         "type": "string"
        },
        {
         "name": "DENOMINATION",
         "rawType": "object",
         "type": "string"
        }
       ],
       "ref": "59e74fae-fef4-47b0-b76f-c37ffd56703f",
       "rows": [
        [
         "0",
         "b4dbd85fdc14f93f1db4a80538a5d3ee3184d606e6d00e3540ef6ed33fe487fc",
         "Nairobi",
         "ACTIVE",
         "MIA",
         "DS",
         "darkstore"
        ],
        [
         "1",
         "3a9280a7ef0535508e92e5bbc743b6af83c358a176377d1afc1b3eb984164488",
         "Belmopan",
         "ACTIVE",
         "MIA",
         "DS",
         "darkstore"
        ],
        [
         "2",
         "2df16f89e221264d08396b08e45fd3a8cd71ececdf947cb651b3a693f4299b6d",
         "Andorra la Vella",
         "ACTIVE",
         "MIA",
         "DS",
         "darkstore"
        ],
        [
         "3",
         "bc853a9baae81a14cc2a279c23f7b9af149588f80b7ffd692bfb513787562d48",
         "Madrid",
         "ACTIVE",
         "MIA",
         "DS",
         "darkstore"
        ],
        [
         "4",
         "af32eedaaea7c5c9cb8fa60c08d1c2a1d878104a0546986ccac8a4c4fa43075f",
         "San Jose",
         "ACTIVE",
         "MIA",
         "DS",
         "darkstore"
        ]
       ],
       "shape": {
        "columns": 6,
        "rows": 5
       }
      },
      "text/html": [
       "<div>\n",
       "<style scoped>\n",
       "    .dataframe tbody tr th:only-of-type {\n",
       "        vertical-align: middle;\n",
       "    }\n",
       "\n",
       "    .dataframe tbody tr th {\n",
       "        vertical-align: top;\n",
       "    }\n",
       "\n",
       "    .dataframe thead th {\n",
       "        text-align: right;\n",
       "    }\n",
       "</style>\n",
       "<table border=\"1\" class=\"dataframe\">\n",
       "  <thead>\n",
       "    <tr style=\"text-align: right;\">\n",
       "      <th></th>\n",
       "      <th>STORE_ID</th>\n",
       "      <th>STORE_NAME</th>\n",
       "      <th>STATUS</th>\n",
       "      <th>CITY</th>\n",
       "      <th>PREFIX</th>\n",
       "      <th>DENOMINATION</th>\n",
       "    </tr>\n",
       "  </thead>\n",
       "  <tbody>\n",
       "    <tr>\n",
       "      <th>0</th>\n",
       "      <td>b4dbd85fdc14f93f1db4a80538a5d3ee3184d606e6d00e...</td>\n",
       "      <td>Nairobi</td>\n",
       "      <td>ACTIVE</td>\n",
       "      <td>MIA</td>\n",
       "      <td>DS</td>\n",
       "      <td>darkstore</td>\n",
       "    </tr>\n",
       "    <tr>\n",
       "      <th>1</th>\n",
       "      <td>3a9280a7ef0535508e92e5bbc743b6af83c358a176377d...</td>\n",
       "      <td>Belmopan</td>\n",
       "      <td>ACTIVE</td>\n",
       "      <td>MIA</td>\n",
       "      <td>DS</td>\n",
       "      <td>darkstore</td>\n",
       "    </tr>\n",
       "    <tr>\n",
       "      <th>2</th>\n",
       "      <td>2df16f89e221264d08396b08e45fd3a8cd71ececdf947c...</td>\n",
       "      <td>Andorra la Vella</td>\n",
       "      <td>ACTIVE</td>\n",
       "      <td>MIA</td>\n",
       "      <td>DS</td>\n",
       "      <td>darkstore</td>\n",
       "    </tr>\n",
       "    <tr>\n",
       "      <th>3</th>\n",
       "      <td>bc853a9baae81a14cc2a279c23f7b9af149588f80b7ffd...</td>\n",
       "      <td>Madrid</td>\n",
       "      <td>ACTIVE</td>\n",
       "      <td>MIA</td>\n",
       "      <td>DS</td>\n",
       "      <td>darkstore</td>\n",
       "    </tr>\n",
       "    <tr>\n",
       "      <th>4</th>\n",
       "      <td>af32eedaaea7c5c9cb8fa60c08d1c2a1d878104a054698...</td>\n",
       "      <td>San Jose</td>\n",
       "      <td>ACTIVE</td>\n",
       "      <td>MIA</td>\n",
       "      <td>DS</td>\n",
       "      <td>darkstore</td>\n",
       "    </tr>\n",
       "  </tbody>\n",
       "</table>\n",
       "</div>"
      ],
      "text/plain": [
       "                                            STORE_ID        STORE_NAME  \\\n",
       "0  b4dbd85fdc14f93f1db4a80538a5d3ee3184d606e6d00e...           Nairobi   \n",
       "1  3a9280a7ef0535508e92e5bbc743b6af83c358a176377d...          Belmopan   \n",
       "2  2df16f89e221264d08396b08e45fd3a8cd71ececdf947c...  Andorra la Vella   \n",
       "3  bc853a9baae81a14cc2a279c23f7b9af149588f80b7ffd...            Madrid   \n",
       "4  af32eedaaea7c5c9cb8fa60c08d1c2a1d878104a054698...          San Jose   \n",
       "\n",
       "   STATUS CITY PREFIX DENOMINATION  \n",
       "0  ACTIVE  MIA     DS    darkstore  \n",
       "1  ACTIVE  MIA     DS    darkstore  \n",
       "2  ACTIVE  MIA     DS    darkstore  \n",
       "3  ACTIVE  MIA     DS    darkstore  \n",
       "4  ACTIVE  MIA     DS    darkstore  "
      ]
     },
     "execution_count": 6,
     "metadata": {},
     "output_type": "execute_result"
    }
   ],
   "source": [
    "store_master.head()\n"
   ]
  },
  {
   "cell_type": "code",
   "execution_count": 7,
   "id": "42460ae9",
   "metadata": {},
   "outputs": [
    {
     "data": {
      "application/vnd.microsoft.datawrangler.viewer.v0+json": {
       "columns": [
        {
         "name": "index",
         "rawType": "int64",
         "type": "integer"
        },
        {
         "name": "REGISTRATION_TIMESTAMP",
         "rawType": "object",
         "type": "string"
        },
        {
         "name": "CREATION_DATE",
         "rawType": "object",
         "type": "string"
        },
        {
         "name": "CUSTOMER_ID",
         "rawType": "object",
         "type": "unknown"
        },
        {
         "name": "USER_KEY",
         "rawType": "object",
         "type": "unknown"
        }
       ],
       "ref": "1e96d1dd-33fc-4ede-bcc7-acd736f56083",
       "rows": [
        [
         "0",
         "2024-06-20 20:21:37.743",
         "2025-01-01 20:46:17.343",
         null,
         null
        ],
        [
         "1",
         "2024-06-08 19:51:37.946",
         "2024-06-09 23:46:18.652",
         "7da798fa1c112e43f69d90871c7f76aa7c075cd82a84da76ceef5912cf6ce42e",
         "bbe65953e402fcaf00af1f5c0f34dcc8f28c3e76b7d0ee2bcbce458cd2739c7c"
        ],
        [
         "2",
         "2024-02-16 17:22:29.373",
         "2024-02-28 23:52:35.421",
         "21eecbfa0c075076f049eb5e50bc232d7611a37d6cb1bdfc30e7c32bf7b238fc",
         "cc497bbd5a430cc16617f75cd42c687fa1e86f59b2b4c31ccf16a31122d3e231"
        ],
        [
         "3",
         "2024-05-29 14:40:28.968",
         "2025-03-29 05:55:59.578",
         null,
         null
        ],
        [
         "4",
         "2024-06-18 14:27:31.085",
         "2024-06-18 20:52:56.310",
         null,
         null
        ]
       ],
       "shape": {
        "columns": 4,
        "rows": 5
       }
      },
      "text/html": [
       "<div>\n",
       "<style scoped>\n",
       "    .dataframe tbody tr th:only-of-type {\n",
       "        vertical-align: middle;\n",
       "    }\n",
       "\n",
       "    .dataframe tbody tr th {\n",
       "        vertical-align: top;\n",
       "    }\n",
       "\n",
       "    .dataframe thead th {\n",
       "        text-align: right;\n",
       "    }\n",
       "</style>\n",
       "<table border=\"1\" class=\"dataframe\">\n",
       "  <thead>\n",
       "    <tr style=\"text-align: right;\">\n",
       "      <th></th>\n",
       "      <th>REGISTRATION_TIMESTAMP</th>\n",
       "      <th>CREATION_DATE</th>\n",
       "      <th>CUSTOMER_ID</th>\n",
       "      <th>USER_KEY</th>\n",
       "    </tr>\n",
       "  </thead>\n",
       "  <tbody>\n",
       "    <tr>\n",
       "      <th>0</th>\n",
       "      <td>2024-06-20 20:21:37.743</td>\n",
       "      <td>2025-01-01 20:46:17.343</td>\n",
       "      <td>None</td>\n",
       "      <td>None</td>\n",
       "    </tr>\n",
       "    <tr>\n",
       "      <th>1</th>\n",
       "      <td>2024-06-08 19:51:37.946</td>\n",
       "      <td>2024-06-09 23:46:18.652</td>\n",
       "      <td>7da798fa1c112e43f69d90871c7f76aa7c075cd82a84da...</td>\n",
       "      <td>bbe65953e402fcaf00af1f5c0f34dcc8f28c3e76b7d0ee...</td>\n",
       "    </tr>\n",
       "    <tr>\n",
       "      <th>2</th>\n",
       "      <td>2024-02-16 17:22:29.373</td>\n",
       "      <td>2024-02-28 23:52:35.421</td>\n",
       "      <td>21eecbfa0c075076f049eb5e50bc232d7611a37d6cb1bd...</td>\n",
       "      <td>cc497bbd5a430cc16617f75cd42c687fa1e86f59b2b4c3...</td>\n",
       "    </tr>\n",
       "    <tr>\n",
       "      <th>3</th>\n",
       "      <td>2024-05-29 14:40:28.968</td>\n",
       "      <td>2025-03-29 05:55:59.578</td>\n",
       "      <td>None</td>\n",
       "      <td>None</td>\n",
       "    </tr>\n",
       "    <tr>\n",
       "      <th>4</th>\n",
       "      <td>2024-06-18 14:27:31.085</td>\n",
       "      <td>2024-06-18 20:52:56.310</td>\n",
       "      <td>None</td>\n",
       "      <td>None</td>\n",
       "    </tr>\n",
       "  </tbody>\n",
       "</table>\n",
       "</div>"
      ],
      "text/plain": [
       "    REGISTRATION_TIMESTAMP            CREATION_DATE  \\\n",
       "0  2024-06-20 20:21:37.743  2025-01-01 20:46:17.343   \n",
       "1  2024-06-08 19:51:37.946  2024-06-09 23:46:18.652   \n",
       "2  2024-02-16 17:22:29.373  2024-02-28 23:52:35.421   \n",
       "3  2024-05-29 14:40:28.968  2025-03-29 05:55:59.578   \n",
       "4  2024-06-18 14:27:31.085  2024-06-18 20:52:56.310   \n",
       "\n",
       "                                         CUSTOMER_ID  \\\n",
       "0                                               None   \n",
       "1  7da798fa1c112e43f69d90871c7f76aa7c075cd82a84da...   \n",
       "2  21eecbfa0c075076f049eb5e50bc232d7611a37d6cb1bd...   \n",
       "3                                               None   \n",
       "4                                               None   \n",
       "\n",
       "                                            USER_KEY  \n",
       "0                                               None  \n",
       "1  bbe65953e402fcaf00af1f5c0f34dcc8f28c3e76b7d0ee...  \n",
       "2  cc497bbd5a430cc16617f75cd42c687fa1e86f59b2b4c3...  \n",
       "3                                               None  \n",
       "4                                               None  "
      ]
     },
     "execution_count": 7,
     "metadata": {},
     "output_type": "execute_result"
    }
   ],
   "source": [
    "user_master.head()"
   ]
  },
  {
   "cell_type": "code",
   "execution_count": 8,
   "id": "63b93792",
   "metadata": {},
   "outputs": [
    {
     "name": "stdout",
     "output_type": "stream",
     "text": [
      "<class 'pandas.core.frame.DataFrame'>\n",
      "RangeIndex: 592830 entries, 0 to 592829\n",
      "Data columns (total 4 columns):\n",
      " #   Column                  Non-Null Count   Dtype \n",
      "---  ------                  --------------   ----- \n",
      " 0   REGISTRATION_TIMESTAMP  592829 non-null  object\n",
      " 1   CREATION_DATE           592829 non-null  object\n",
      " 2   CUSTOMER_ID             242130 non-null  object\n",
      " 3   USER_KEY                236814 non-null  object\n",
      "dtypes: object(4)\n",
      "memory usage: 18.1+ MB\n"
     ]
    }
   ],
   "source": [
    "user_master.info()"
   ]
  },
  {
   "cell_type": "code",
   "execution_count": 9,
   "id": "6c0a711a",
   "metadata": {},
   "outputs": [],
   "source": [
    "# covert REGISTRATION_TIMESTAMP to datetime AND CREATION_DATE to datetime\n",
    "user_master['REGISTRATION_TIMESTAMP'] = pd.to_datetime(user_master['REGISTRATION_TIMESTAMP'])\n",
    "user_master['CREATION_DATE'] = pd.to_datetime(user_master['CREATION_DATE'])"
   ]
  },
  {
   "cell_type": "code",
   "execution_count": 10,
   "id": "c722783f",
   "metadata": {},
   "outputs": [
    {
     "data": {
      "application/vnd.microsoft.datawrangler.viewer.v0+json": {
       "columns": [
        {
         "name": "index",
         "rawType": "int64",
         "type": "integer"
        },
        {
         "name": "ORDER_DATE",
         "rawType": "object",
         "type": "string"
        },
        {
         "name": "ORDER_TIME",
         "rawType": "object",
         "type": "string"
        },
        {
         "name": "ORDER_TIMESTAMP",
         "rawType": "object",
         "type": "string"
        },
        {
         "name": "UNIT_QUANTITY",
         "rawType": "int64",
         "type": "integer"
        },
        {
         "name": "UNIT_VOLUME",
         "rawType": "float64",
         "type": "float"
        },
        {
         "name": "UNIT_LIST_PRICE",
         "rawType": "float64",
         "type": "float"
        },
        {
         "name": "UNIT_OFFERED_PRICE",
         "rawType": "float64",
         "type": "float"
        },
        {
         "name": "UNIT_CHARGED_PRICE",
         "rawType": "float64",
         "type": "float"
        },
        {
         "name": "UNIT_DELIVERY_PRICE",
         "rawType": "float64",
         "type": "float"
        },
        {
         "name": "UNIT_DISCOUNT",
         "rawType": "float64",
         "type": "float"
        },
        {
         "name": "UNIT_TAX",
         "rawType": "float64",
         "type": "float"
        },
        {
         "name": "UNIT_GROSS",
         "rawType": "float64",
         "type": "float"
        },
        {
         "name": "UNIT_NET",
         "rawType": "float64",
         "type": "float"
        },
        {
         "name": "ORDER_STATE",
         "rawType": "object",
         "type": "string"
        },
        {
         "name": "ORDER_STATE_FINAL",
         "rawType": "object",
         "type": "string"
        },
        {
         "name": "CUSTOMER_FIRST_ORDER_PERIOD",
         "rawType": "int64",
         "type": "integer"
        },
        {
         "name": "CUSTOMER_FIRST_ORDER_YEAR",
         "rawType": "int64",
         "type": "integer"
        },
        {
         "name": "ORDER_DAYS_AFTER_FIRST_ORDER",
         "rawType": "int64",
         "type": "integer"
        },
        {
         "name": "CUSTOMER_FIRST_ORDER_DATE",
         "rawType": "object",
         "type": "string"
        },
        {
         "name": "IS_FIRST_PURCHASE",
         "rawType": "bool",
         "type": "boolean"
        },
        {
         "name": "PAYMENT_METHOD",
         "rawType": "object",
         "type": "string"
        },
        {
         "name": "TOTAL_VOLUME",
         "rawType": "float64",
         "type": "float"
        },
        {
         "name": "SKU_ID",
         "rawType": "object",
         "type": "string"
        },
        {
         "name": "ORDER_ID",
         "rawType": "object",
         "type": "string"
        },
        {
         "name": "CUSTOMER_ID",
         "rawType": "object",
         "type": "string"
        },
        {
         "name": "COUPON_ID",
         "rawType": "object",
         "type": "string"
        },
        {
         "name": "DISCUNT_TYPE_ID",
         "rawType": "object",
         "type": "string"
        },
        {
         "name": "OPERATOR_ID",
         "rawType": "object",
         "type": "string"
        },
        {
         "name": "CAMPAIGN_ID",
         "rawType": "object",
         "type": "string"
        },
        {
         "name": "DEVICE_ID",
         "rawType": "object",
         "type": "string"
        },
        {
         "name": "STORE_ID",
         "rawType": "object",
         "type": "string"
        }
       ],
       "ref": "656d1038-3851-4ea5-bb82-106abcbc5df2",
       "rows": [
        [
         "0",
         "2021-12-09",
         "15:00:00",
         "2021-12-09 15:45:46.283",
         "1",
         null,
         "1.51",
         "1.51",
         "1.51",
         "0.0",
         "0.0",
         null,
         "1.51",
         "1.51",
         "invoiced",
         "Valid",
         "202112",
         "2021",
         "0",
         "2021-12-09",
         "True",
         "CREDIT_CARD_ONLINE",
         null,
         "1bad6b8cf97131fceab8543e81f7757195fbb1d36b376ee994ad1cf17699c464",
         "396870f51da14527f8574debc5a38d31f0639eee43a9a5b1a6f5990f77d7c22f",
         "0feac7456da1dc563dd5b320f5f867520b925b401b0c6056e8048ef0be9e297c",
         "9b2d5b4678781e53038e91ea5324530a03f27dc1d0e5f6c9bc9d493a23be9de0",
         "9b2d5b4678781e53038e91ea5324530a03f27dc1d0e5f6c9bc9d493a23be9de0",
         "298be79d248ca0ec4383be30c219a8c9a7b60e6d15ec0b6528010c2a1808b498",
         "9b2d5b4678781e53038e91ea5324530a03f27dc1d0e5f6c9bc9d493a23be9de0",
         "9b2d5b4678781e53038e91ea5324530a03f27dc1d0e5f6c9bc9d493a23be9de0",
         "298be79d248ca0ec4383be30c219a8c9a7b60e6d15ec0b6528010c2a1808b498"
        ],
        [
         "1",
         "2021-12-30",
         "10:00:00",
         "2021-12-30 10:19:15.242",
         "1",
         "0.000142",
         "6.5",
         "6.5",
         "5.2",
         "0.0",
         "1.3",
         null,
         "6.5",
         "5.2",
         "invoiced",
         "Valid",
         "202112",
         "2021",
         "0",
         "2021-12-30",
         "True",
         "SAFE_PAYMENT_ONLINE",
         "0.000142",
         "41c3b51900da35f4f3810675d7d04ed0d447b27b070988b470eabdf9e1032d13",
         "f32cbfef6104f537be85682c31df907432c9293d46d83fbe9104335c5b016646",
         "1a38ad305d9d89845bb4a07f1ba01ac8276d8e2c18baccb2212cf22630952745",
         "9b2d5b4678781e53038e91ea5324530a03f27dc1d0e5f6c9bc9d493a23be9de0",
         "9b2d5b4678781e53038e91ea5324530a03f27dc1d0e5f6c9bc9d493a23be9de0",
         "298be79d248ca0ec4383be30c219a8c9a7b60e6d15ec0b6528010c2a1808b498",
         "560f89b4e57b3d5077def298c5b90607a8f077f028d60b6a286066d4f0efc696",
         "9b2d5b4678781e53038e91ea5324530a03f27dc1d0e5f6c9bc9d493a23be9de0",
         "298be79d248ca0ec4383be30c219a8c9a7b60e6d15ec0b6528010c2a1808b498"
        ],
        [
         "2",
         "2021-12-12",
         "19:00:00",
         "2021-12-12 19:36:00.358",
         "2",
         "0.0132",
         "35.6",
         "35.6",
         "20.02",
         "0.0",
         "15.58",
         null,
         "71.2",
         "40.04",
         "invoiced",
         "Valid",
         "202112",
         "2021",
         "0",
         "2021-12-12",
         "True",
         "CREDIT_CARD_ONLINE",
         "0.0264",
         "af1e47985056a8a1edffdb0770e7e85a419c432547c0c2592021246cab80923a",
         "be71e684c855c31d9f327b4450ff0df0b42fe5d30ba29a21dc11ff736cc0931c",
         "5e9fbcf540e7164b5f8a649a719defcfc53c31ae992418c33793bc2058bd5583",
         "9b2d5b4678781e53038e91ea5324530a03f27dc1d0e5f6c9bc9d493a23be9de0",
         "9b2d5b4678781e53038e91ea5324530a03f27dc1d0e5f6c9bc9d493a23be9de0",
         "8ebacabc393f66d5c3ba210dca34d542bc4c94b93ccd5321c400819bcdcb5a11",
         "12ecd42bb988dd9727341621b1f4a3432d4bcc91e4f99202ff1657f54567d0cc",
         "9b2d5b4678781e53038e91ea5324530a03f27dc1d0e5f6c9bc9d493a23be9de0",
         "8ebacabc393f66d5c3ba210dca34d542bc4c94b93ccd5321c400819bcdcb5a11"
        ],
        [
         "3",
         "2021-12-04",
         "19:00:00",
         "2021-12-04 19:35:00.968",
         "1",
         "0.0252",
         "42.0",
         "42.0",
         "26.91",
         "0.0",
         "15.09",
         null,
         "42.0",
         "26.91",
         "invoiced",
         "Valid",
         "202112",
         "2021",
         "0",
         "2021-12-04",
         "True",
         "CREDIT_CARD_ONLINE",
         "0.0252",
         "e4d30fb5a3db1e00334d6b96a1e6e5bffc640a8fddb246fe015b6698fd971339",
         "4fad0bc7c15c826b14995a4985291b08fc4eb1985b25f256b505eb77b54b89ec",
         "1d7fbb1c62ae524b36f6f9d5ca1f3cf0092f91241a9a4ea38b6c650618ab3ed3",
         "2b68c6ca4a9c52467143134d9ad2c3d1688a90564cb3c1639fadbe71a7afc606",
         "9b2d5b4678781e53038e91ea5324530a03f27dc1d0e5f6c9bc9d493a23be9de0",
         "298be79d248ca0ec4383be30c219a8c9a7b60e6d15ec0b6528010c2a1808b498",
         "8a62029aef1e4faf78f81decf0f914682341944091c7d46617cf32dc49bbccb7",
         "9b2d5b4678781e53038e91ea5324530a03f27dc1d0e5f6c9bc9d493a23be9de0",
         "298be79d248ca0ec4383be30c219a8c9a7b60e6d15ec0b6528010c2a1808b498"
        ],
        [
         "4",
         "2021-12-18",
         "16:00:00",
         "2021-12-18 16:42:19.791",
         "1",
         "0.0549",
         "63.0",
         "63.0",
         "43.9",
         "0.0",
         "19.1",
         null,
         "63.0",
         "43.9",
         "invoiced",
         "Valid",
         "202112",
         "2021",
         "0",
         "2021-12-18",
         "True",
         "CARD ON DELIVERY",
         "0.0549",
         "6f46e0c2d01279c387383fb383a83edb7d70ed113e65c486ce82784da47d04e1",
         "0c5b62c613f1771c17bb0dfe40d0c82ef4c3c58ee4ceabe967c00ce8f089a066",
         "f8a8c52328463163394df658afa72468ce9e4890ff05e847a5499350b7097b80",
         "9b2d5b4678781e53038e91ea5324530a03f27dc1d0e5f6c9bc9d493a23be9de0",
         "9b2d5b4678781e53038e91ea5324530a03f27dc1d0e5f6c9bc9d493a23be9de0",
         "492177838841fe53109fc45ec656f71d274b0bbc6df7909a90d4526e7265826b",
         "7bfb4b82499a04dc02e531402827ad41498d2928c8ef7c5f91b8b42ab2848448",
         "9b2d5b4678781e53038e91ea5324530a03f27dc1d0e5f6c9bc9d493a23be9de0",
         "492177838841fe53109fc45ec656f71d274b0bbc6df7909a90d4526e7265826b"
        ]
       ],
       "shape": {
        "columns": 31,
        "rows": 5
       }
      },
      "text/html": [
       "<div>\n",
       "<style scoped>\n",
       "    .dataframe tbody tr th:only-of-type {\n",
       "        vertical-align: middle;\n",
       "    }\n",
       "\n",
       "    .dataframe tbody tr th {\n",
       "        vertical-align: top;\n",
       "    }\n",
       "\n",
       "    .dataframe thead th {\n",
       "        text-align: right;\n",
       "    }\n",
       "</style>\n",
       "<table border=\"1\" class=\"dataframe\">\n",
       "  <thead>\n",
       "    <tr style=\"text-align: right;\">\n",
       "      <th></th>\n",
       "      <th>ORDER_DATE</th>\n",
       "      <th>ORDER_TIME</th>\n",
       "      <th>ORDER_TIMESTAMP</th>\n",
       "      <th>UNIT_QUANTITY</th>\n",
       "      <th>UNIT_VOLUME</th>\n",
       "      <th>UNIT_LIST_PRICE</th>\n",
       "      <th>UNIT_OFFERED_PRICE</th>\n",
       "      <th>UNIT_CHARGED_PRICE</th>\n",
       "      <th>UNIT_DELIVERY_PRICE</th>\n",
       "      <th>UNIT_DISCOUNT</th>\n",
       "      <th>...</th>\n",
       "      <th>TOTAL_VOLUME</th>\n",
       "      <th>SKU_ID</th>\n",
       "      <th>ORDER_ID</th>\n",
       "      <th>CUSTOMER_ID</th>\n",
       "      <th>COUPON_ID</th>\n",
       "      <th>DISCUNT_TYPE_ID</th>\n",
       "      <th>OPERATOR_ID</th>\n",
       "      <th>CAMPAIGN_ID</th>\n",
       "      <th>DEVICE_ID</th>\n",
       "      <th>STORE_ID</th>\n",
       "    </tr>\n",
       "  </thead>\n",
       "  <tbody>\n",
       "    <tr>\n",
       "      <th>0</th>\n",
       "      <td>2021-12-09</td>\n",
       "      <td>15:00:00</td>\n",
       "      <td>2021-12-09 15:45:46.283</td>\n",
       "      <td>1</td>\n",
       "      <td>NaN</td>\n",
       "      <td>1.51</td>\n",
       "      <td>1.51</td>\n",
       "      <td>1.51</td>\n",
       "      <td>0.0</td>\n",
       "      <td>0.00</td>\n",
       "      <td>...</td>\n",
       "      <td>NaN</td>\n",
       "      <td>1bad6b8cf97131fceab8543e81f7757195fbb1d36b376e...</td>\n",
       "      <td>396870f51da14527f8574debc5a38d31f0639eee43a9a5...</td>\n",
       "      <td>0feac7456da1dc563dd5b320f5f867520b925b401b0c60...</td>\n",
       "      <td>9b2d5b4678781e53038e91ea5324530a03f27dc1d0e5f6...</td>\n",
       "      <td>9b2d5b4678781e53038e91ea5324530a03f27dc1d0e5f6...</td>\n",
       "      <td>298be79d248ca0ec4383be30c219a8c9a7b60e6d15ec0b...</td>\n",
       "      <td>9b2d5b4678781e53038e91ea5324530a03f27dc1d0e5f6...</td>\n",
       "      <td>9b2d5b4678781e53038e91ea5324530a03f27dc1d0e5f6...</td>\n",
       "      <td>298be79d248ca0ec4383be30c219a8c9a7b60e6d15ec0b...</td>\n",
       "    </tr>\n",
       "    <tr>\n",
       "      <th>1</th>\n",
       "      <td>2021-12-30</td>\n",
       "      <td>10:00:00</td>\n",
       "      <td>2021-12-30 10:19:15.242</td>\n",
       "      <td>1</td>\n",
       "      <td>0.000142</td>\n",
       "      <td>6.50</td>\n",
       "      <td>6.50</td>\n",
       "      <td>5.20</td>\n",
       "      <td>0.0</td>\n",
       "      <td>1.30</td>\n",
       "      <td>...</td>\n",
       "      <td>0.000142</td>\n",
       "      <td>41c3b51900da35f4f3810675d7d04ed0d447b27b070988...</td>\n",
       "      <td>f32cbfef6104f537be85682c31df907432c9293d46d83f...</td>\n",
       "      <td>1a38ad305d9d89845bb4a07f1ba01ac8276d8e2c18bacc...</td>\n",
       "      <td>9b2d5b4678781e53038e91ea5324530a03f27dc1d0e5f6...</td>\n",
       "      <td>9b2d5b4678781e53038e91ea5324530a03f27dc1d0e5f6...</td>\n",
       "      <td>298be79d248ca0ec4383be30c219a8c9a7b60e6d15ec0b...</td>\n",
       "      <td>560f89b4e57b3d5077def298c5b90607a8f077f028d60b...</td>\n",
       "      <td>9b2d5b4678781e53038e91ea5324530a03f27dc1d0e5f6...</td>\n",
       "      <td>298be79d248ca0ec4383be30c219a8c9a7b60e6d15ec0b...</td>\n",
       "    </tr>\n",
       "    <tr>\n",
       "      <th>2</th>\n",
       "      <td>2021-12-12</td>\n",
       "      <td>19:00:00</td>\n",
       "      <td>2021-12-12 19:36:00.358</td>\n",
       "      <td>2</td>\n",
       "      <td>0.013200</td>\n",
       "      <td>35.60</td>\n",
       "      <td>35.60</td>\n",
       "      <td>20.02</td>\n",
       "      <td>0.0</td>\n",
       "      <td>15.58</td>\n",
       "      <td>...</td>\n",
       "      <td>0.026400</td>\n",
       "      <td>af1e47985056a8a1edffdb0770e7e85a419c432547c0c2...</td>\n",
       "      <td>be71e684c855c31d9f327b4450ff0df0b42fe5d30ba29a...</td>\n",
       "      <td>5e9fbcf540e7164b5f8a649a719defcfc53c31ae992418...</td>\n",
       "      <td>9b2d5b4678781e53038e91ea5324530a03f27dc1d0e5f6...</td>\n",
       "      <td>9b2d5b4678781e53038e91ea5324530a03f27dc1d0e5f6...</td>\n",
       "      <td>8ebacabc393f66d5c3ba210dca34d542bc4c94b93ccd53...</td>\n",
       "      <td>12ecd42bb988dd9727341621b1f4a3432d4bcc91e4f992...</td>\n",
       "      <td>9b2d5b4678781e53038e91ea5324530a03f27dc1d0e5f6...</td>\n",
       "      <td>8ebacabc393f66d5c3ba210dca34d542bc4c94b93ccd53...</td>\n",
       "    </tr>\n",
       "    <tr>\n",
       "      <th>3</th>\n",
       "      <td>2021-12-04</td>\n",
       "      <td>19:00:00</td>\n",
       "      <td>2021-12-04 19:35:00.968</td>\n",
       "      <td>1</td>\n",
       "      <td>0.025200</td>\n",
       "      <td>42.00</td>\n",
       "      <td>42.00</td>\n",
       "      <td>26.91</td>\n",
       "      <td>0.0</td>\n",
       "      <td>15.09</td>\n",
       "      <td>...</td>\n",
       "      <td>0.025200</td>\n",
       "      <td>e4d30fb5a3db1e00334d6b96a1e6e5bffc640a8fddb246...</td>\n",
       "      <td>4fad0bc7c15c826b14995a4985291b08fc4eb1985b25f2...</td>\n",
       "      <td>1d7fbb1c62ae524b36f6f9d5ca1f3cf0092f91241a9a4e...</td>\n",
       "      <td>2b68c6ca4a9c52467143134d9ad2c3d1688a90564cb3c1...</td>\n",
       "      <td>9b2d5b4678781e53038e91ea5324530a03f27dc1d0e5f6...</td>\n",
       "      <td>298be79d248ca0ec4383be30c219a8c9a7b60e6d15ec0b...</td>\n",
       "      <td>8a62029aef1e4faf78f81decf0f914682341944091c7d4...</td>\n",
       "      <td>9b2d5b4678781e53038e91ea5324530a03f27dc1d0e5f6...</td>\n",
       "      <td>298be79d248ca0ec4383be30c219a8c9a7b60e6d15ec0b...</td>\n",
       "    </tr>\n",
       "    <tr>\n",
       "      <th>4</th>\n",
       "      <td>2021-12-18</td>\n",
       "      <td>16:00:00</td>\n",
       "      <td>2021-12-18 16:42:19.791</td>\n",
       "      <td>1</td>\n",
       "      <td>0.054900</td>\n",
       "      <td>63.00</td>\n",
       "      <td>63.00</td>\n",
       "      <td>43.90</td>\n",
       "      <td>0.0</td>\n",
       "      <td>19.10</td>\n",
       "      <td>...</td>\n",
       "      <td>0.054900</td>\n",
       "      <td>6f46e0c2d01279c387383fb383a83edb7d70ed113e65c4...</td>\n",
       "      <td>0c5b62c613f1771c17bb0dfe40d0c82ef4c3c58ee4ceab...</td>\n",
       "      <td>f8a8c52328463163394df658afa72468ce9e4890ff05e8...</td>\n",
       "      <td>9b2d5b4678781e53038e91ea5324530a03f27dc1d0e5f6...</td>\n",
       "      <td>9b2d5b4678781e53038e91ea5324530a03f27dc1d0e5f6...</td>\n",
       "      <td>492177838841fe53109fc45ec656f71d274b0bbc6df790...</td>\n",
       "      <td>7bfb4b82499a04dc02e531402827ad41498d2928c8ef7c...</td>\n",
       "      <td>9b2d5b4678781e53038e91ea5324530a03f27dc1d0e5f6...</td>\n",
       "      <td>492177838841fe53109fc45ec656f71d274b0bbc6df790...</td>\n",
       "    </tr>\n",
       "  </tbody>\n",
       "</table>\n",
       "<p>5 rows × 31 columns</p>\n",
       "</div>"
      ],
      "text/plain": [
       "   ORDER_DATE ORDER_TIME          ORDER_TIMESTAMP  UNIT_QUANTITY  UNIT_VOLUME  \\\n",
       "0  2021-12-09   15:00:00  2021-12-09 15:45:46.283              1          NaN   \n",
       "1  2021-12-30   10:00:00  2021-12-30 10:19:15.242              1     0.000142   \n",
       "2  2021-12-12   19:00:00  2021-12-12 19:36:00.358              2     0.013200   \n",
       "3  2021-12-04   19:00:00  2021-12-04 19:35:00.968              1     0.025200   \n",
       "4  2021-12-18   16:00:00  2021-12-18 16:42:19.791              1     0.054900   \n",
       "\n",
       "   UNIT_LIST_PRICE  UNIT_OFFERED_PRICE  UNIT_CHARGED_PRICE  \\\n",
       "0             1.51                1.51                1.51   \n",
       "1             6.50                6.50                5.20   \n",
       "2            35.60               35.60               20.02   \n",
       "3            42.00               42.00               26.91   \n",
       "4            63.00               63.00               43.90   \n",
       "\n",
       "   UNIT_DELIVERY_PRICE  UNIT_DISCOUNT  ...  TOTAL_VOLUME  \\\n",
       "0                  0.0           0.00  ...           NaN   \n",
       "1                  0.0           1.30  ...      0.000142   \n",
       "2                  0.0          15.58  ...      0.026400   \n",
       "3                  0.0          15.09  ...      0.025200   \n",
       "4                  0.0          19.10  ...      0.054900   \n",
       "\n",
       "                                              SKU_ID  \\\n",
       "0  1bad6b8cf97131fceab8543e81f7757195fbb1d36b376e...   \n",
       "1  41c3b51900da35f4f3810675d7d04ed0d447b27b070988...   \n",
       "2  af1e47985056a8a1edffdb0770e7e85a419c432547c0c2...   \n",
       "3  e4d30fb5a3db1e00334d6b96a1e6e5bffc640a8fddb246...   \n",
       "4  6f46e0c2d01279c387383fb383a83edb7d70ed113e65c4...   \n",
       "\n",
       "                                            ORDER_ID  \\\n",
       "0  396870f51da14527f8574debc5a38d31f0639eee43a9a5...   \n",
       "1  f32cbfef6104f537be85682c31df907432c9293d46d83f...   \n",
       "2  be71e684c855c31d9f327b4450ff0df0b42fe5d30ba29a...   \n",
       "3  4fad0bc7c15c826b14995a4985291b08fc4eb1985b25f2...   \n",
       "4  0c5b62c613f1771c17bb0dfe40d0c82ef4c3c58ee4ceab...   \n",
       "\n",
       "                                         CUSTOMER_ID  \\\n",
       "0  0feac7456da1dc563dd5b320f5f867520b925b401b0c60...   \n",
       "1  1a38ad305d9d89845bb4a07f1ba01ac8276d8e2c18bacc...   \n",
       "2  5e9fbcf540e7164b5f8a649a719defcfc53c31ae992418...   \n",
       "3  1d7fbb1c62ae524b36f6f9d5ca1f3cf0092f91241a9a4e...   \n",
       "4  f8a8c52328463163394df658afa72468ce9e4890ff05e8...   \n",
       "\n",
       "                                           COUPON_ID  \\\n",
       "0  9b2d5b4678781e53038e91ea5324530a03f27dc1d0e5f6...   \n",
       "1  9b2d5b4678781e53038e91ea5324530a03f27dc1d0e5f6...   \n",
       "2  9b2d5b4678781e53038e91ea5324530a03f27dc1d0e5f6...   \n",
       "3  2b68c6ca4a9c52467143134d9ad2c3d1688a90564cb3c1...   \n",
       "4  9b2d5b4678781e53038e91ea5324530a03f27dc1d0e5f6...   \n",
       "\n",
       "                                     DISCUNT_TYPE_ID  \\\n",
       "0  9b2d5b4678781e53038e91ea5324530a03f27dc1d0e5f6...   \n",
       "1  9b2d5b4678781e53038e91ea5324530a03f27dc1d0e5f6...   \n",
       "2  9b2d5b4678781e53038e91ea5324530a03f27dc1d0e5f6...   \n",
       "3  9b2d5b4678781e53038e91ea5324530a03f27dc1d0e5f6...   \n",
       "4  9b2d5b4678781e53038e91ea5324530a03f27dc1d0e5f6...   \n",
       "\n",
       "                                         OPERATOR_ID  \\\n",
       "0  298be79d248ca0ec4383be30c219a8c9a7b60e6d15ec0b...   \n",
       "1  298be79d248ca0ec4383be30c219a8c9a7b60e6d15ec0b...   \n",
       "2  8ebacabc393f66d5c3ba210dca34d542bc4c94b93ccd53...   \n",
       "3  298be79d248ca0ec4383be30c219a8c9a7b60e6d15ec0b...   \n",
       "4  492177838841fe53109fc45ec656f71d274b0bbc6df790...   \n",
       "\n",
       "                                         CAMPAIGN_ID  \\\n",
       "0  9b2d5b4678781e53038e91ea5324530a03f27dc1d0e5f6...   \n",
       "1  560f89b4e57b3d5077def298c5b90607a8f077f028d60b...   \n",
       "2  12ecd42bb988dd9727341621b1f4a3432d4bcc91e4f992...   \n",
       "3  8a62029aef1e4faf78f81decf0f914682341944091c7d4...   \n",
       "4  7bfb4b82499a04dc02e531402827ad41498d2928c8ef7c...   \n",
       "\n",
       "                                           DEVICE_ID  \\\n",
       "0  9b2d5b4678781e53038e91ea5324530a03f27dc1d0e5f6...   \n",
       "1  9b2d5b4678781e53038e91ea5324530a03f27dc1d0e5f6...   \n",
       "2  9b2d5b4678781e53038e91ea5324530a03f27dc1d0e5f6...   \n",
       "3  9b2d5b4678781e53038e91ea5324530a03f27dc1d0e5f6...   \n",
       "4  9b2d5b4678781e53038e91ea5324530a03f27dc1d0e5f6...   \n",
       "\n",
       "                                            STORE_ID  \n",
       "0  298be79d248ca0ec4383be30c219a8c9a7b60e6d15ec0b...  \n",
       "1  298be79d248ca0ec4383be30c219a8c9a7b60e6d15ec0b...  \n",
       "2  8ebacabc393f66d5c3ba210dca34d542bc4c94b93ccd53...  \n",
       "3  298be79d248ca0ec4383be30c219a8c9a7b60e6d15ec0b...  \n",
       "4  492177838841fe53109fc45ec656f71d274b0bbc6df790...  \n",
       "\n",
       "[5 rows x 31 columns]"
      ]
     },
     "execution_count": 10,
     "metadata": {},
     "output_type": "execute_result"
    }
   ],
   "source": [
    "order_details.head()"
   ]
  },
  {
   "cell_type": "code",
   "execution_count": 11,
   "id": "cb0a4c19",
   "metadata": {},
   "outputs": [
    {
     "name": "stdout",
     "output_type": "stream",
     "text": [
      "<class 'pandas.core.frame.DataFrame'>\n",
      "RangeIndex: 2060463 entries, 0 to 2060462\n",
      "Data columns (total 31 columns):\n",
      " #   Column                        Dtype  \n",
      "---  ------                        -----  \n",
      " 0   ORDER_DATE                    object \n",
      " 1   ORDER_TIME                    object \n",
      " 2   ORDER_TIMESTAMP               object \n",
      " 3   UNIT_QUANTITY                 int64  \n",
      " 4   UNIT_VOLUME                   float64\n",
      " 5   UNIT_LIST_PRICE               float64\n",
      " 6   UNIT_OFFERED_PRICE            float64\n",
      " 7   UNIT_CHARGED_PRICE            float64\n",
      " 8   UNIT_DELIVERY_PRICE           float64\n",
      " 9   UNIT_DISCOUNT                 float64\n",
      " 10  UNIT_TAX                      float64\n",
      " 11  UNIT_GROSS                    float64\n",
      " 12  UNIT_NET                      float64\n",
      " 13  ORDER_STATE                   object \n",
      " 14  ORDER_STATE_FINAL             object \n",
      " 15  CUSTOMER_FIRST_ORDER_PERIOD   int64  \n",
      " 16  CUSTOMER_FIRST_ORDER_YEAR     int64  \n",
      " 17  ORDER_DAYS_AFTER_FIRST_ORDER  int64  \n",
      " 18  CUSTOMER_FIRST_ORDER_DATE     object \n",
      " 19  IS_FIRST_PURCHASE             bool   \n",
      " 20  PAYMENT_METHOD                object \n",
      " 21  TOTAL_VOLUME                  float64\n",
      " 22  SKU_ID                        object \n",
      " 23  ORDER_ID                      object \n",
      " 24  CUSTOMER_ID                   object \n",
      " 25  COUPON_ID                     object \n",
      " 26  DISCUNT_TYPE_ID               object \n",
      " 27  OPERATOR_ID                   object \n",
      " 28  CAMPAIGN_ID                   object \n",
      " 29  DEVICE_ID                     object \n",
      " 30  STORE_ID                      object \n",
      "dtypes: bool(1), float64(10), int64(4), object(16)\n",
      "memory usage: 473.6+ MB\n"
     ]
    }
   ],
   "source": [
    "order_details.info()"
   ]
  },
  {
   "cell_type": "code",
   "execution_count": 12,
   "id": "dad92ab3",
   "metadata": {},
   "outputs": [],
   "source": [
    "# convert columns to datetime amd time\n",
    "order_details['ORDER_TIMESTAMP'] = pd.to_datetime(order_details['ORDER_TIMESTAMP'], errors='coerce')\n",
    "order_details['ORDER_DATE'] = pd.to_datetime(order_details['ORDER_DATE'], errors='coerce')\n",
    "order_details['ORDER_TIME'] = pd.to_datetime(order_details['ORDER_TIME'], format='%H:%M:%S', errors='coerce').dt.time"
   ]
  },
  {
   "cell_type": "code",
   "execution_count": 13,
   "id": "302e0359",
   "metadata": {},
   "outputs": [
    {
     "data": {
      "text/plain": [
       "(2060463, 31)"
      ]
     },
     "execution_count": 13,
     "metadata": {},
     "output_type": "execute_result"
    }
   ],
   "source": [
    "order_details.shape"
   ]
  },
  {
   "cell_type": "code",
   "execution_count": 14,
   "id": "159cf5fe",
   "metadata": {},
   "outputs": [
    {
     "data": {
      "text/plain": [
       "126"
      ]
     },
     "execution_count": 14,
     "metadata": {},
     "output_type": "execute_result"
    }
   ],
   "source": [
    "order_details.STORE_ID.unique().shape[0]"
   ]
  },
  {
   "cell_type": "code",
   "execution_count": 15,
   "id": "fbbe2ead",
   "metadata": {},
   "outputs": [
    {
     "data": {
      "text/plain": [
       "84"
      ]
     },
     "execution_count": 15,
     "metadata": {},
     "output_type": "execute_result"
    }
   ],
   "source": [
    "store_master.STORE_ID.unique().shape[0]"
   ]
  },
  {
   "cell_type": "code",
   "execution_count": 16,
   "id": "c7d1dc80",
   "metadata": {},
   "outputs": [],
   "source": [
    "# map the STORE_NAME to STORE_ID in order_details\n",
    "order_details = order_details.merge(\n",
    "    store_master[['STORE_ID', 'STORE_NAME','PREFIX']],\n",
    "    on='STORE_ID',\n",
    "    how='left'\n",
    ")"
   ]
  },
  {
   "cell_type": "code",
   "execution_count": 17,
   "id": "a921df9f",
   "metadata": {},
   "outputs": [
    {
     "data": {
      "text/plain": [
       "85"
      ]
     },
     "execution_count": 17,
     "metadata": {},
     "output_type": "execute_result"
    }
   ],
   "source": [
    "order_details.STORE_NAME.unique().shape[0]"
   ]
  },
  {
   "cell_type": "code",
   "execution_count": 18,
   "id": "997c57af",
   "metadata": {},
   "outputs": [
    {
     "data": {
      "text/plain": [
       "18837"
      ]
     },
     "execution_count": 18,
     "metadata": {},
     "output_type": "execute_result"
    }
   ],
   "source": [
    "order_details[order_details['STORE_NAME'].isnull()].shape[0]"
   ]
  },
  {
   "cell_type": "code",
   "execution_count": 19,
   "id": "934b580f",
   "metadata": {},
   "outputs": [
    {
     "data": {
      "text/plain": [
       "84"
      ]
     },
     "execution_count": 19,
     "metadata": {},
     "output_type": "execute_result"
    }
   ],
   "source": [
    "# drop the rows with null STORE_NAME\n",
    "order_details = order_details.dropna(subset=['STORE_NAME'])\n",
    "# check the unique STORE_NAME again\n",
    "order_details.STORE_NAME.unique().shape[0]"
   ]
  },
  {
   "cell_type": "code",
   "execution_count": 20,
   "id": "57196535",
   "metadata": {},
   "outputs": [],
   "source": [
    "order_details = order_details.merge(\n",
    "    product_master[[\n",
    "    'SKU_ID',\n",
    "    'SKU_NAME',\n",
    "    'SKU_BRAND',\n",
    "    'SKU_CATEGORY',\n",
    "    'SKU_SUBCATEGORY',\n",
    "    'SKU_RETURNABLE_CONTAINER',\n",
    "    'SKU_ALCOHOLIC',\n",
    "    'SKU_OWN_CATALOG',\n",
    "    'SKU_CONTAINER',\n",
    "    'SKU_IS_RETURNABLE', \n",
    "    'SKU_IS_BUNDLE'\n",
    "]],\n",
    "    on='SKU_ID',\n",
    "    how='left'\n",
    ")"
   ]
  },
  {
   "cell_type": "code",
   "execution_count": 21,
   "id": "29f9d791",
   "metadata": {},
   "outputs": [],
   "source": [
    "order_details['SKU_CATEGORY'] = order_details['SKU_CATEGORY'].fillna('Unknown')\n",
    "order_details['SKU_IS_BUNDLE'] = order_details['SKU_IS_BUNDLE'].fillna(0)"
   ]
  },
  {
   "cell_type": "code",
   "execution_count": 22,
   "id": "e4eae58e",
   "metadata": {},
   "outputs": [],
   "source": [
    "order_details = order_details.merge(\n",
    "    user_master[['CUSTOMER_ID', 'REGISTRATION_TIMESTAMP', 'CREATION_DATE']],\n",
    "    on='CUSTOMER_ID',\n",
    "    how='left'\n",
    ")"
   ]
  },
  {
   "cell_type": "code",
   "execution_count": 23,
   "id": "efebd8cb",
   "metadata": {},
   "outputs": [
    {
     "data": {
      "application/vnd.microsoft.datawrangler.viewer.v0+json": {
       "columns": [
        {
         "name": "PAYMENT_METHOD",
         "rawType": "object",
         "type": "string"
        },
        {
         "name": "count",
         "rawType": "int64",
         "type": "integer"
        }
       ],
       "ref": "ab04d46a-386b-4e00-99e8-df015997b8cb",
       "rows": [
        [
         "CASH",
         "436350"
        ],
        [
         "CARD",
         "414178"
        ],
        [
         "E WALLET CASHASPP",
         "403990"
        ],
        [
         "CARD ON DELIVERY",
         "285880"
        ],
        [
         "SAFE_PAYMENT_ONLINE",
         "209556"
        ],
        [
         "CREDIT_CARD_ONLINE",
         "112299"
        ],
        [
         "ONLINE_PAYMENTS",
         "98427"
        ],
        [
         "E WALLET REVOLUT",
         "80942"
        ],
        [
         "QR CODE",
         "4"
        ]
       ],
       "shape": {
        "columns": 1,
        "rows": 9
       }
      },
      "text/plain": [
       "PAYMENT_METHOD\n",
       "CASH                   436350\n",
       "CARD                   414178\n",
       "E WALLET CASHASPP      403990\n",
       "CARD ON DELIVERY       285880\n",
       "SAFE_PAYMENT_ONLINE    209556\n",
       "CREDIT_CARD_ONLINE     112299\n",
       "ONLINE_PAYMENTS         98427\n",
       "E WALLET REVOLUT        80942\n",
       "QR CODE                     4\n",
       "Name: count, dtype: int64"
      ]
     },
     "execution_count": 23,
     "metadata": {},
     "output_type": "execute_result"
    }
   ],
   "source": [
    "order_details.PAYMENT_METHOD.value_counts()"
   ]
  },
  {
   "cell_type": "code",
   "execution_count": 24,
   "id": "86552258",
   "metadata": {},
   "outputs": [],
   "source": [
    "# Dictionary to map cleaned PAYMENT_METHOD values\n",
    "payment_mapping = {\n",
    "    \"CREDIT_CARD_ONLINE\": \"ONLINE_PAYMENTS\",\n",
    "    \"SAFE_PAYMENT_ONLINE\": \"ONLINE_PAYMENTS\",\n",
    "    \"ONLINE_PAYMENTS\": \"ONLINE_PAYMENTS\",\n",
    "    \"CARD ON DELIVERY\": \"CARD\",\n",
    "    \"CARD\": \"CARD\",\n",
    "    \"CASH\": \"CASH\",\n",
    "    \"E WALLET CASHASPP\": \"E WALLET\",\n",
    "    \"E WALLET REVOLUT\": \"E WALLET\",\n",
    "    \"QR CODE\": \"E WALLET\"\n",
    "}\n",
    "\n",
    "# Map the values\n",
    "order_details['PAYMENT_METHOD'] = order_details['PAYMENT_METHOD'].map(payment_mapping)\n"
   ]
  },
  {
   "cell_type": "code",
   "execution_count": 25,
   "id": "2ce9c2a4",
   "metadata": {},
   "outputs": [
    {
     "data": {
      "application/vnd.microsoft.datawrangler.viewer.v0+json": {
       "columns": [
        {
         "name": "PAYMENT_METHOD",
         "rawType": "object",
         "type": "string"
        },
        {
         "name": "count",
         "rawType": "int64",
         "type": "integer"
        }
       ],
       "ref": "87e6b9ef-7c88-4140-a151-8e0a2afbbd08",
       "rows": [
        [
         "CARD",
         "700058"
        ],
        [
         "E WALLET",
         "484936"
        ],
        [
         "CASH",
         "436350"
        ],
        [
         "ONLINE_PAYMENTS",
         "420282"
        ]
       ],
       "shape": {
        "columns": 1,
        "rows": 4
       }
      },
      "text/plain": [
       "PAYMENT_METHOD\n",
       "CARD               700058\n",
       "E WALLET           484936\n",
       "CASH               436350\n",
       "ONLINE_PAYMENTS    420282\n",
       "Name: count, dtype: int64"
      ]
     },
     "execution_count": 25,
     "metadata": {},
     "output_type": "execute_result"
    }
   ],
   "source": [
    "order_details.PAYMENT_METHOD.value_counts()"
   ]
  },
  {
   "cell_type": "code",
   "execution_count": 26,
   "id": "1d83bec6",
   "metadata": {},
   "outputs": [
    {
     "data": {
      "text/plain": [
       "array(['Valid', 'Invalid', 'Fraud'], dtype=object)"
      ]
     },
     "execution_count": 26,
     "metadata": {},
     "output_type": "execute_result"
    }
   ],
   "source": [
    "order_details.ORDER_STATE_FINAL.unique()"
   ]
  },
  {
   "cell_type": "code",
   "execution_count": 27,
   "id": "597b68e2",
   "metadata": {},
   "outputs": [
    {
     "data": {
      "application/vnd.microsoft.datawrangler.viewer.v0+json": {
       "columns": [
        {
         "name": "ORDER_STATE_FINAL",
         "rawType": "object",
         "type": "string"
        },
        {
         "name": "count",
         "rawType": "int64",
         "type": "integer"
        }
       ],
       "ref": "fa877ab0-2dd4-4ff1-8fc7-b3e7f0f2138a",
       "rows": [
        [
         "Valid",
         "1819117"
        ],
        [
         "Invalid",
         "221985"
        ],
        [
         "Fraud",
         "524"
        ]
       ],
       "shape": {
        "columns": 1,
        "rows": 3
       }
      },
      "text/plain": [
       "ORDER_STATE_FINAL\n",
       "Valid      1819117\n",
       "Invalid     221985\n",
       "Fraud          524\n",
       "Name: count, dtype: int64"
      ]
     },
     "execution_count": 27,
     "metadata": {},
     "output_type": "execute_result"
    }
   ],
   "source": [
    "order_details.ORDER_STATE_FINAL.value_counts()"
   ]
  },
  {
   "cell_type": "code",
   "execution_count": 28,
   "id": "82a6f188",
   "metadata": {},
   "outputs": [
    {
     "data": {
      "text/plain": [
       "array(['Valid', 'Invalid'], dtype=object)"
      ]
     },
     "execution_count": 28,
     "metadata": {},
     "output_type": "execute_result"
    }
   ],
   "source": [
    "# drop the rows with Invalid and Fraud ORDER_STATE_FINAL\n",
    "order_details = order_details[\n",
    "    ~order_details['ORDER_STATE_FINAL'].isin(['Fraud'])\n",
    "]\n",
    "# check the unique ORDER_STATE_FINAL again\n",
    "order_details.ORDER_STATE_FINAL.unique()"
   ]
  },
  {
   "cell_type": "code",
   "execution_count": 29,
   "id": "e08bde97",
   "metadata": {},
   "outputs": [
    {
     "data": {
      "text/plain": [
       "np.int64(140)"
      ]
     },
     "execution_count": 29,
     "metadata": {},
     "output_type": "execute_result"
    }
   ],
   "source": [
    "order_details.SKU_NAME.isna().sum()    "
   ]
  },
  {
   "cell_type": "code",
   "execution_count": 30,
   "id": "aece79c6",
   "metadata": {},
   "outputs": [
    {
     "data": {
      "text/plain": [
       "array(['1bad6b8cf97131fceab8543e81f7757195fbb1d36b376ee994ad1cf17699c464',\n",
       "       'c968ea6501c846b86cd4047898c1310b767d6c78ccfaed0504192cb9179a206e',\n",
       "       'f6a697eca0318c15ace5f727c86982ff85db20f34b0a587a0b7919ee40d88b3f'],\n",
       "      dtype=object)"
      ]
     },
     "execution_count": 30,
     "metadata": {},
     "output_type": "execute_result"
    }
   ],
   "source": [
    "# get all the SKU_IDs with null SKU_NAME\n",
    "null_sku_ids = order_details[order_details['SKU_NAME'].isna()]['SKU_ID'].unique()\n",
    "null_sku_ids"
   ]
  },
  {
   "cell_type": "code",
   "execution_count": 31,
   "id": "8808e267",
   "metadata": {},
   "outputs": [
    {
     "data": {
      "text/plain": [
       "np.int64(0)"
      ]
     },
     "execution_count": 31,
     "metadata": {},
     "output_type": "execute_result"
    }
   ],
   "source": [
    "# drop the rows with null SKU_NAME\n",
    "order_details = order_details.dropna(subset=['SKU_NAME'])\n",
    "# check the unique SKU_NAME again\n",
    "order_details.SKU_NAME.isna().sum()"
   ]
  },
  {
   "cell_type": "code",
   "execution_count": 32,
   "id": "b37d1d45",
   "metadata": {},
   "outputs": [
    {
     "data": {
      "text/plain": [
       "(2040962, 45)"
      ]
     },
     "execution_count": 32,
     "metadata": {},
     "output_type": "execute_result"
    }
   ],
   "source": [
    "order_details.shape"
   ]
  },
  {
   "cell_type": "code",
   "execution_count": 33,
   "id": "cd1aae16",
   "metadata": {},
   "outputs": [
    {
     "data": {
      "text/plain": [
       "(1430061, 22)"
      ]
     },
     "execution_count": 33,
     "metadata": {},
     "output_type": "execute_result"
    }
   ],
   "source": [
    "operation_details.shape"
   ]
  },
  {
   "cell_type": "code",
   "execution_count": 34,
   "id": "a2d96c28",
   "metadata": {},
   "outputs": [],
   "source": [
    "operation_details['ORDER_DATE'] = pd.to_datetime(operation_details['ORDER_DATE'])\n",
    "operation_details['ORDER_TIME'] = pd.to_datetime(operation_details['ORDER_TIME'], format='%H:%M:%S', errors='coerce')"
   ]
  },
  {
   "cell_type": "code",
   "execution_count": 35,
   "id": "b46e7f3e",
   "metadata": {},
   "outputs": [],
   "source": [
    "operation_details = operation_details.merge(\n",
    "    order_details[['ORDER_ID', 'CUSTOMER_ID']].drop_duplicates(),\n",
    "    on='ORDER_ID',\n",
    "    how='left'\n",
    ")"
   ]
  },
  {
   "cell_type": "code",
   "execution_count": 36,
   "id": "a97d10bd",
   "metadata": {},
   "outputs": [],
   "source": [
    "# CUSTOMER ID SAMPLE 5e9fbcf540e7164b5f8a649a719defcfc53c31ae992418c33793bc2058bd5583\n",
    "# ORDER ID SAMPLE be71e684c855c31d9f327b4450ff0df0b42fe5d30ba29a21dc11ff736cc0931c"
   ]
  },
  {
   "cell_type": "code",
   "execution_count": 37,
   "id": "41b911cf",
   "metadata": {},
   "outputs": [
    {
     "data": {
      "application/vnd.microsoft.datawrangler.viewer.v0+json": {
       "columns": [
        {
         "name": "index",
         "rawType": "int64",
         "type": "integer"
        },
        {
         "name": "ORDER_ID",
         "rawType": "object",
         "type": "string"
        },
        {
         "name": "ORDER_TIMESTAMP",
         "rawType": "datetime64[ns]",
         "type": "datetime"
        },
        {
         "name": "UNIT_QUANTITY",
         "rawType": "int64",
         "type": "integer"
        },
        {
         "name": "UNIT_LIST_PRICE",
         "rawType": "float64",
         "type": "float"
        },
        {
         "name": "UNIT_OFFERED_PRICE",
         "rawType": "float64",
         "type": "float"
        },
        {
         "name": "UNIT_CHARGED_PRICE",
         "rawType": "float64",
         "type": "float"
        },
        {
         "name": "UNIT_DELIVERY_PRICE",
         "rawType": "float64",
         "type": "float"
        },
        {
         "name": "UNIT_DISCOUNT",
         "rawType": "float64",
         "type": "float"
        },
        {
         "name": "UNIT_GROSS",
         "rawType": "float64",
         "type": "float"
        },
        {
         "name": "UNIT_ORGANIC_DISCOUNT",
         "rawType": "float64",
         "type": "float"
        },
        {
         "name": "UNIT_EXTRA_DISCOUNT",
         "rawType": "float64",
         "type": "float"
        },
        {
         "name": "UNIT_ORGANIC_DISCOUNT_TOTAL",
         "rawType": "float64",
         "type": "float"
        },
        {
         "name": "UNIT_EXTRA_DISCOUNT_TOTAL",
         "rawType": "float64",
         "type": "float"
        },
        {
         "name": "UNIT_NET",
         "rawType": "float64",
         "type": "float"
        }
       ],
       "ref": "ad24c1d7-f356-47fb-81d4-766e7be9683b",
       "rows": [
        [
         "0",
         "7443b376d2feddcd3442fa30a9fc21985583de357cb8b169ccc5354aa1d577bd",
         "2024-12-29 23:01:32.258000",
         "1",
         "54.01",
         "41.9",
         "41.9",
         "4.9",
         "0.0",
         "58.91",
         "12.11",
         "0.0",
         "12.11",
         "0.0",
         "46.8"
        ],
        [
         "1",
         "c8bcfb78282fb82a4c619030b4f6935f6eb4931fefba722ce3dad55c2554fa80",
         "2024-12-29 21:19:26.536000",
         "1",
         "108.01",
         "94.91",
         "94.91",
         "3.9",
         "0.0",
         "111.91",
         "13.100000000000009",
         "0.0",
         "13.100000000000009",
         "0.0",
         "98.81"
        ],
        [
         "2",
         "094d9ee5570b1c94a9eca44b9d7d2c01c1f90e06db4a0f2b23e776825c1cf2cb",
         "2024-12-29 18:48:24.002000",
         "1",
         "108.01",
         "94.91",
         "94.91",
         "2.57",
         "0.0",
         "110.58",
         "13.100000000000009",
         "0.0",
         "13.100000000000009",
         "0.0",
         "97.48"
        ],
        [
         "3",
         "094d9ee5570b1c94a9eca44b9d7d2c01c1f90e06db4a0f2b23e776825c1cf2cb",
         "2024-12-29 18:48:24.002000",
         "1",
         "56.4",
         "48.9",
         "48.9",
         "1.33",
         "0.0",
         "57.73",
         "7.5",
         "0.0",
         "7.5",
         "0.0",
         "50.23"
        ],
        [
         "4",
         "7102b1654de75cd9cfeb19a143e9cdd433a468f1f91660613caa5ee1484de344",
         "2024-11-21 21:14:58.840000",
         "2",
         "33.0",
         "29.9",
         "29.9",
         "2.9",
         "0.0",
         "68.9",
         "3.1000000000000014",
         "0.0",
         "6.200000000000003",
         "0.0",
         "62.7"
        ],
        [
         "5",
         "594315f7b912b099f47c4ae50838d311f2003baff9c1202f1818f906a41eb4e1",
         "2024-10-21 19:14:37.926000",
         "1",
         "7.89",
         "6.89",
         "6.89",
         "0.47",
         "0.0",
         "8.36",
         "1.0",
         "0.0",
         "1.0",
         "0.0",
         "7.36"
        ],
        [
         "6",
         "594315f7b912b099f47c4ae50838d311f2003baff9c1202f1818f906a41eb4e1",
         "2024-10-21 19:14:37.926000",
         "1",
         "42.0",
         "33.89",
         "33.89",
         "2.33",
         "0.0",
         "44.33",
         "8.11",
         "0.0",
         "8.11",
         "0.0",
         "36.22"
        ],
        [
         "7",
         "d19fe957f9562dd330b8edd7d18bde0b4808e19bb686aee65038db0c6bef9f73",
         "2024-10-10 00:03:49.688000",
         "1",
         "4.5",
         "4.5",
         "4.5",
         "0.41",
         "0.0",
         "4.91",
         "0.0",
         "0.0",
         "0.0",
         "0.0",
         "4.91"
        ],
        [
         "8",
         "d19fe957f9562dd330b8edd7d18bde0b4808e19bb686aee65038db0c6bef9f73",
         "2024-10-10 00:03:49.688000",
         "1",
         "54.0",
         "46.89",
         "46.89",
         "4.29",
         "0.0",
         "58.29",
         "7.109999999999999",
         "0.0",
         "7.109999999999999",
         "0.0",
         "51.18"
        ],
        [
         "9",
         "d094231cda35d22c3c5bfacc6a67506b98d91bdc712bcde5f0d432db8da04dd2",
         "2024-10-09 22:29:20.694000",
         "2",
         "7.89",
         "6.89",
         "6.89",
         "0.68",
         "0.0",
         "16.46",
         "1.0",
         "0.0",
         "2.0",
         "0.0",
         "14.46"
        ],
        [
         "10",
         "d094231cda35d22c3c5bfacc6a67506b98d91bdc712bcde5f0d432db8da04dd2",
         "2024-10-09 22:29:20.694000",
         "2",
         "26.0",
         "20.45",
         "20.45",
         "2.02",
         "0.0",
         "54.02",
         "5.550000000000001",
         "0.0",
         "11.100000000000001",
         "0.0",
         "42.92"
        ],
        [
         "11",
         "4704d3152b41dd6f6b0a69c900d33978e21ffca24906574b4ffc91453da80046",
         "2024-07-14 14:17:37.017000",
         "1",
         "63.0",
         "44.9",
         "44.9",
         "2.17",
         "0.0",
         "65.17",
         "18.1",
         "0.0",
         "18.1",
         "0.0",
         "47.07"
        ],
        [
         "12",
         "4704d3152b41dd6f6b0a69c900d33978e21ffca24906574b4ffc91453da80046",
         "2024-07-14 14:17:37.017000",
         "1",
         "34.9",
         "27.51",
         "27.51",
         "1.33",
         "0.0",
         "36.23",
         "7.389999999999997",
         "0.0",
         "7.389999999999997",
         "0.0",
         "28.84"
        ],
        [
         "13",
         "edde47e9b31fbc8ac237d48132c3484d99a7261a5efaa05baae9897bacb9e5e0",
         "2024-06-20 19:13:46.128000",
         "1",
         "63.0",
         "50.89",
         "50.89",
         "1.66",
         "0.0",
         "64.66",
         "12.11",
         "0.0",
         "12.11",
         "0.0",
         "52.55"
        ],
        [
         "14",
         "edde47e9b31fbc8ac237d48132c3484d99a7261a5efaa05baae9897bacb9e5e0",
         "2024-06-20 19:13:46.128000",
         "1",
         "30.9",
         "25.9",
         "25.9",
         "0.84",
         "0.0",
         "31.74",
         "5.0",
         "0.0",
         "5.0",
         "0.0",
         "26.74"
        ],
        [
         "15",
         "19cd855cbf2e07c33d2ee4f7a691788512a359a1c3eb62e4a2596d77836b22ad",
         "2024-04-30 14:15:38.848000",
         "1",
         "63.0",
         "48.9",
         "48.9",
         "0.0",
         "0.0",
         "63.0",
         "14.100000000000001",
         "0.0",
         "14.100000000000001",
         "0.0",
         "48.9"
        ],
        [
         "16",
         "e3f0ba40720bb85ee70b119f9bcf22625e522f6ea607fe49b1a40bb5201cba78",
         "2024-04-10 13:42:37.786000",
         "1",
         "63.0",
         "50.89",
         "50.89",
         "2.06",
         "0.0",
         "65.06",
         "12.11",
         "0.0",
         "12.11",
         "0.0",
         "52.95"
        ],
        [
         "17",
         "e3f0ba40720bb85ee70b119f9bcf22625e522f6ea607fe49b1a40bb5201cba78",
         "2024-04-10 13:42:37.786000",
         "1",
         "22.0",
         "11.0",
         "11.0",
         "0.44",
         "0.0",
         "22.44",
         "11.0",
         "0.0",
         "11.0",
         "0.0",
         "11.44"
        ],
        [
         "18",
         "f75e6175cf3e849f87752846b96be5b6d7d97d975e882572abc1404dfcd1665d",
         "2024-02-29 19:17:13.170000",
         "1",
         "63.0",
         "49.9",
         "49.9",
         "1.76",
         "0.0",
         "64.76",
         "13.100000000000001",
         "0.0",
         "13.100000000000001",
         "0.0",
         "51.66"
        ],
        [
         "19",
         "f75e6175cf3e849f87752846b96be5b6d7d97d975e882572abc1404dfcd1665d",
         "2024-02-29 19:17:13.170000",
         "1",
         "22.2",
         "20.9",
         "20.9",
         "0.74",
         "0.0",
         "22.94",
         "1.3000000000000007",
         "0.0",
         "1.3000000000000007",
         "0.0",
         "21.64"
        ],
        [
         "20",
         "2c0a99fe9240a36da0d4fbbe46a300bd8a39b5b146c4c226daf4546701a2cbc8",
         "2024-02-05 18:16:46.991000",
         "1",
         "7.0",
         "7.0",
         "7.0",
         "0.27",
         "0.0",
         "7.27",
         "0.0",
         "0.0",
         "0.0",
         "0.0",
         "7.27"
        ],
        [
         "21",
         "2c0a99fe9240a36da0d4fbbe46a300bd8a39b5b146c4c226daf4546701a2cbc8",
         "2024-02-05 18:16:46.991000",
         "2",
         "5.9",
         "5.9",
         "5.9",
         "0.45",
         "0.0",
         "12.25",
         "0.0",
         "0.0",
         "0.0",
         "0.0",
         "12.25"
        ],
        [
         "22",
         "2c0a99fe9240a36da0d4fbbe46a300bd8a39b5b146c4c226daf4546701a2cbc8",
         "2024-02-05 18:16:46.991000",
         "1",
         "63.0",
         "46.89",
         "46.89",
         "1.78",
         "0.0",
         "64.78",
         "16.11",
         "0.0",
         "16.11",
         "0.0",
         "48.67"
        ],
        [
         "23",
         "34153094aecdc2266577ba4c2b099b69eb014bf60e023cabf2f79b3d9c70e129",
         "2024-02-02 18:19:28.404000",
         "1",
         "63.0",
         "45.9",
         "45.9",
         "2.3",
         "0.0",
         "65.3",
         "17.1",
         "0.0",
         "17.1",
         "0.0",
         "48.2"
        ],
        [
         "24",
         "34153094aecdc2266577ba4c2b099b69eb014bf60e023cabf2f79b3d9c70e129",
         "2024-02-02 18:19:28.404000",
         "2",
         "2.5",
         "2.5",
         "2.5",
         "0.25",
         "0.0",
         "5.25",
         "0.0",
         "0.0",
         "0.0",
         "0.0",
         "5.25"
        ],
        [
         "25",
         "34153094aecdc2266577ba4c2b099b69eb014bf60e023cabf2f79b3d9c70e129",
         "2024-02-02 18:19:28.404000",
         "1",
         "22.0",
         "22.0",
         "9.9",
         "0.95",
         "12.1",
         "22.95",
         "0.0",
         "12.1",
         "0.0",
         "12.1",
         "10.85"
        ],
        [
         "26",
         "550988c7d2b668adaa35ddebe73ac6fdd56fdb540867355dd187ca1dc945bbe1",
         "2024-01-22 21:48:50.590000",
         "1",
         "63.0",
         "46.89",
         "46.89",
         "3.5",
         "0.0",
         "66.5",
         "16.11",
         "0.0",
         "16.11",
         "0.0",
         "50.39"
        ],
        [
         "27",
         "2e8ada8bfc517c9dfc8003aba94c2c84e83b34efa52174e2a19de83e0bb15ea3",
         "2024-01-19 13:32:20.109000",
         "1",
         "70.0",
         "60.9",
         "60.9",
         "1.57",
         "0.0",
         "71.57",
         "9.100000000000001",
         "0.0",
         "9.100000000000001",
         "0.0",
         "62.47"
        ],
        [
         "28",
         "2e8ada8bfc517c9dfc8003aba94c2c84e83b34efa52174e2a19de83e0bb15ea3",
         "2024-01-19 13:32:20.109000",
         "1",
         "90.0",
         "74.89",
         "74.89",
         "1.93",
         "0.0",
         "91.93",
         "15.11",
         "0.0",
         "15.11",
         "0.0",
         "76.82"
        ],
        [
         "29",
         "900366786d4fb5808dc322a2c7d4ed21203facfe074d0d893af835ce4a843177",
         "2023-12-24 13:14:23.343000",
         "1",
         "21.0",
         "15.91",
         "15.91",
         "0.91",
         "0.0",
         "21.91",
         "5.09",
         "0.0",
         "5.09",
         "0.0",
         "16.82"
        ],
        [
         "30",
         "900366786d4fb5808dc322a2c7d4ed21203facfe074d0d893af835ce4a843177",
         "2023-12-24 13:14:23.343000",
         "1",
         "50.4",
         "37.9",
         "37.9",
         "2.16",
         "0.0",
         "52.56",
         "12.5",
         "0.0",
         "12.5",
         "0.0",
         "40.06"
        ],
        [
         "31",
         "900366786d4fb5808dc322a2c7d4ed21203facfe074d0d893af835ce4a843177",
         "2023-12-24 13:14:23.343000",
         "1",
         "7.5",
         "7.5",
         "7.5",
         "0.43",
         "0.0",
         "7.93",
         "0.0",
         "0.0",
         "0.0",
         "0.0",
         "7.93"
        ],
        [
         "32",
         "d7a277358771c8ea48b157f0091c0ca505cf37aec59c9734da28eff3339440f8",
         "2023-12-16 19:52:13.098000",
         "1",
         "60.0",
         "51.91",
         "51.91",
         "3.5",
         "0.0",
         "63.5",
         "8.090000000000003",
         "0.0",
         "8.090000000000003",
         "0.0",
         "55.41"
        ],
        [
         "33",
         "27904281135104cab0f1559fe916168df50939ca3bcdc9c0cd75ed6ecb23f80d",
         "2023-11-21 11:31:49.206000",
         "2",
         "7.89",
         "6.89",
         "6.1228",
         "0.39",
         "0.7672",
         "16.17",
         "1.0",
         "0.7671999999999999",
         "2.0",
         "1.5343999999999998",
         "12.6356"
        ],
        [
         "34",
         "27904281135104cab0f1559fe916168df50939ca3bcdc9c0cd75ed6ecb23f80d",
         "2023-11-21 11:31:49.206000",
         "1",
         "81.01",
         "54.9",
         "48.7044",
         "1.55",
         "6.1956",
         "82.56",
         "26.110000000000007",
         "6.195599999999999",
         "26.110000000000007",
         "6.195599999999999",
         "50.2544"
        ],
        [
         "35",
         "27904281135104cab0f1559fe916168df50939ca3bcdc9c0cd75ed6ecb23f80d",
         "2023-11-21 11:31:49.206000",
         "1",
         "22.2",
         "19.89",
         "7.6556",
         "0.56",
         "12.2344",
         "22.76",
         "2.3099999999999987",
         "12.2344",
         "2.3099999999999987",
         "12.2344",
         "8.2156"
        ],
        [
         "36",
         "01cd3be649b973807a443644d51056b2977db647efb8b0d508ea54f24013f180",
         "2023-10-11 14:02:44.835000",
         "1",
         "7.5",
         "5.31",
         "5.3095",
         "0.11",
         "0.0005",
         "7.61",
         "2.1900000000000004",
         "0.0004999999999997229",
         "2.1900000000000004",
         "0.0004999999999997229",
         "5.4195"
        ],
        [
         "37",
         "01cd3be649b973807a443644d51056b2977db647efb8b0d508ea54f24013f180",
         "2023-10-11 14:02:44.835000",
         "1",
         "7.5",
         "5.31",
         "5.3095",
         "0.11",
         "0.0005",
         "7.61",
         "2.1900000000000004",
         "0.0004999999999997229",
         "2.1900000000000004",
         "0.0004999999999997229",
         "5.4195"
        ],
        [
         "38",
         "01cd3be649b973807a443644d51056b2977db647efb8b0d508ea54f24013f180",
         "2023-10-11 14:02:44.835000",
         "1",
         "90.0",
         "69.92",
         "69.913",
         "1.49",
         "0.007",
         "91.49",
         "20.08",
         "0.007000000000005002",
         "20.08",
         "0.007000000000005002",
         "71.403"
        ],
        [
         "39",
         "01cd3be649b973807a443644d51056b2977db647efb8b0d508ea54f24013f180",
         "2023-10-11 14:02:44.835000",
         "1",
         "44.4",
         "36.9",
         "36.8963",
         "0.79",
         "0.0037",
         "45.19",
         "7.5",
         "0.003700000000002035",
         "7.5",
         "0.003700000000002035",
         "37.6863"
        ],
        [
         "40",
         "018c0e09724289c7c3c58245d5fb4ba15c6eceb526560d0ed68891e059097e34",
         "2023-09-21 18:38:18.443000",
         "1",
         "44.4",
         "32.9",
         "32.9",
         "1.4982",
         "0.0",
         "45.8982",
         "11.5",
         "0.0",
         "11.5",
         "0.0",
         "34.3982"
        ],
        [
         "41",
         "018c0e09724289c7c3c58245d5fb4ba15c6eceb526560d0ed68891e059097e34",
         "2023-09-21 18:38:18.443000",
         "1",
         "22.0",
         "22.0",
         "18.9",
         "1.0018",
         "3.1",
         "23.0018",
         "0.0",
         "3.1000000000000014",
         "0.0",
         "3.1000000000000014",
         "19.9018"
        ],
        [
         "42",
         "a1efba5a3a1e66778e763fc1a228008f1ef5b6bbca1b9434f9adac20f2d2debe",
         "2023-09-12 17:49:37.264000",
         "1",
         "7.9",
         "7.9",
         "6.9",
         "0.0",
         "1.0",
         "7.9",
         "0.0",
         "1.0",
         "0.0",
         "1.0",
         "6.9"
        ],
        [
         "43",
         "a1efba5a3a1e66778e763fc1a228008f1ef5b6bbca1b9434f9adac20f2d2debe",
         "2023-09-12 17:49:37.264000",
         "1",
         "22.2",
         "22.2",
         "12.9",
         "0.0",
         "9.3",
         "22.2",
         "0.0",
         "9.299999999999999",
         "0.0",
         "9.299999999999999",
         "12.9"
        ],
        [
         "44",
         "a1efba5a3a1e66778e763fc1a228008f1ef5b6bbca1b9434f9adac20f2d2debe",
         "2023-09-12 17:49:37.264000",
         "1",
         "7.9",
         "7.9",
         "6.9",
         "0.0",
         "1.0",
         "7.9",
         "0.0",
         "1.0",
         "0.0",
         "1.0",
         "6.9"
        ],
        [
         "45",
         "a1efba5a3a1e66778e763fc1a228008f1ef5b6bbca1b9434f9adac20f2d2debe",
         "2023-09-12 17:49:37.264000",
         "1",
         "66.0",
         "66.0",
         "49.9",
         "0.0",
         "16.1",
         "66.0",
         "0.0",
         "16.1",
         "0.0",
         "16.1",
         "49.9"
        ],
        [
         "46",
         "ea9f6d3c702cf98817d0eee1d7988010bb0588861e9173c4f9c89081fcd1a075",
         "2023-08-03 18:14:04.474000",
         "1",
         "74.7",
         "74.7",
         "59.9",
         "2.5",
         "14.8",
         "77.2",
         "0.0",
         "14.800000000000004",
         "0.0",
         "14.800000000000004",
         "62.4"
        ],
        [
         "47",
         "b9ec9b76c7956ce8e3b4a0ad899e9295d662caceb65afbe030a434fe6404c467",
         "2023-07-23 19:30:55.748000",
         "1",
         "57.6",
         "57.6",
         "45.9",
         "3.5",
         "11.7",
         "61.1",
         "0.0",
         "11.700000000000003",
         "0.0",
         "11.700000000000003",
         "49.4"
        ],
        [
         "48",
         "1e5c16937982c5bfcd817ef6672632916bc6dfffd9030c6ec78a6a5cc35788ee",
         "2023-07-23 18:05:53.817000",
         "1",
         "57.6",
         "57.6",
         "45.9",
         "3.5",
         "11.7",
         "61.1",
         "0.0",
         "11.700000000000003",
         "0.0",
         "11.700000000000003",
         "49.4"
        ],
        [
         "49",
         "47f49080a3483634dccfcb59ced8abc859797bf40c60e2b3991892a7e3152412",
         "2023-07-21 11:41:49.813000",
         "1",
         "116.2",
         "116.2",
         "87.89",
         "0.0",
         "28.31",
         "116.2",
         "0.0",
         "28.310000000000002",
         "0.0",
         "28.310000000000002",
         "87.89"
        ]
       ],
       "shape": {
        "columns": 14,
        "rows": 120
       }
      },
      "text/html": [
       "<div>\n",
       "<style scoped>\n",
       "    .dataframe tbody tr th:only-of-type {\n",
       "        vertical-align: middle;\n",
       "    }\n",
       "\n",
       "    .dataframe tbody tr th {\n",
       "        vertical-align: top;\n",
       "    }\n",
       "\n",
       "    .dataframe thead th {\n",
       "        text-align: right;\n",
       "    }\n",
       "</style>\n",
       "<table border=\"1\" class=\"dataframe\">\n",
       "  <thead>\n",
       "    <tr style=\"text-align: right;\">\n",
       "      <th></th>\n",
       "      <th>ORDER_ID</th>\n",
       "      <th>ORDER_TIMESTAMP</th>\n",
       "      <th>UNIT_QUANTITY</th>\n",
       "      <th>UNIT_LIST_PRICE</th>\n",
       "      <th>UNIT_OFFERED_PRICE</th>\n",
       "      <th>UNIT_CHARGED_PRICE</th>\n",
       "      <th>UNIT_DELIVERY_PRICE</th>\n",
       "      <th>UNIT_DISCOUNT</th>\n",
       "      <th>UNIT_GROSS</th>\n",
       "      <th>UNIT_ORGANIC_DISCOUNT</th>\n",
       "      <th>UNIT_EXTRA_DISCOUNT</th>\n",
       "      <th>UNIT_ORGANIC_DISCOUNT_TOTAL</th>\n",
       "      <th>UNIT_EXTRA_DISCOUNT_TOTAL</th>\n",
       "      <th>UNIT_NET</th>\n",
       "    </tr>\n",
       "  </thead>\n",
       "  <tbody>\n",
       "    <tr>\n",
       "      <th>0</th>\n",
       "      <td>7443b376d2feddcd3442fa30a9fc21985583de357cb8b1...</td>\n",
       "      <td>2024-12-29 23:01:32.258</td>\n",
       "      <td>1</td>\n",
       "      <td>54.01</td>\n",
       "      <td>41.90</td>\n",
       "      <td>41.90</td>\n",
       "      <td>4.90</td>\n",
       "      <td>0.00</td>\n",
       "      <td>58.91</td>\n",
       "      <td>12.11</td>\n",
       "      <td>0.00</td>\n",
       "      <td>12.11</td>\n",
       "      <td>0.00</td>\n",
       "      <td>46.80</td>\n",
       "    </tr>\n",
       "    <tr>\n",
       "      <th>1</th>\n",
       "      <td>c8bcfb78282fb82a4c619030b4f6935f6eb4931fefba72...</td>\n",
       "      <td>2024-12-29 21:19:26.536</td>\n",
       "      <td>1</td>\n",
       "      <td>108.01</td>\n",
       "      <td>94.91</td>\n",
       "      <td>94.91</td>\n",
       "      <td>3.90</td>\n",
       "      <td>0.00</td>\n",
       "      <td>111.91</td>\n",
       "      <td>13.10</td>\n",
       "      <td>0.00</td>\n",
       "      <td>13.10</td>\n",
       "      <td>0.00</td>\n",
       "      <td>98.81</td>\n",
       "    </tr>\n",
       "    <tr>\n",
       "      <th>2</th>\n",
       "      <td>094d9ee5570b1c94a9eca44b9d7d2c01c1f90e06db4a0f...</td>\n",
       "      <td>2024-12-29 18:48:24.002</td>\n",
       "      <td>1</td>\n",
       "      <td>108.01</td>\n",
       "      <td>94.91</td>\n",
       "      <td>94.91</td>\n",
       "      <td>2.57</td>\n",
       "      <td>0.00</td>\n",
       "      <td>110.58</td>\n",
       "      <td>13.10</td>\n",
       "      <td>0.00</td>\n",
       "      <td>13.10</td>\n",
       "      <td>0.00</td>\n",
       "      <td>97.48</td>\n",
       "    </tr>\n",
       "    <tr>\n",
       "      <th>3</th>\n",
       "      <td>094d9ee5570b1c94a9eca44b9d7d2c01c1f90e06db4a0f...</td>\n",
       "      <td>2024-12-29 18:48:24.002</td>\n",
       "      <td>1</td>\n",
       "      <td>56.40</td>\n",
       "      <td>48.90</td>\n",
       "      <td>48.90</td>\n",
       "      <td>1.33</td>\n",
       "      <td>0.00</td>\n",
       "      <td>57.73</td>\n",
       "      <td>7.50</td>\n",
       "      <td>0.00</td>\n",
       "      <td>7.50</td>\n",
       "      <td>0.00</td>\n",
       "      <td>50.23</td>\n",
       "    </tr>\n",
       "    <tr>\n",
       "      <th>4</th>\n",
       "      <td>7102b1654de75cd9cfeb19a143e9cdd433a468f1f91660...</td>\n",
       "      <td>2024-11-21 21:14:58.840</td>\n",
       "      <td>2</td>\n",
       "      <td>33.00</td>\n",
       "      <td>29.90</td>\n",
       "      <td>29.90</td>\n",
       "      <td>2.90</td>\n",
       "      <td>0.00</td>\n",
       "      <td>68.90</td>\n",
       "      <td>3.10</td>\n",
       "      <td>0.00</td>\n",
       "      <td>6.20</td>\n",
       "      <td>0.00</td>\n",
       "      <td>62.70</td>\n",
       "    </tr>\n",
       "    <tr>\n",
       "      <th>...</th>\n",
       "      <td>...</td>\n",
       "      <td>...</td>\n",
       "      <td>...</td>\n",
       "      <td>...</td>\n",
       "      <td>...</td>\n",
       "      <td>...</td>\n",
       "      <td>...</td>\n",
       "      <td>...</td>\n",
       "      <td>...</td>\n",
       "      <td>...</td>\n",
       "      <td>...</td>\n",
       "      <td>...</td>\n",
       "      <td>...</td>\n",
       "      <td>...</td>\n",
       "    </tr>\n",
       "    <tr>\n",
       "      <th>115</th>\n",
       "      <td>be71e684c855c31d9f327b4450ff0df0b42fe5d30ba29a...</td>\n",
       "      <td>2021-12-12 19:36:00.358</td>\n",
       "      <td>2</td>\n",
       "      <td>23.60</td>\n",
       "      <td>23.60</td>\n",
       "      <td>13.28</td>\n",
       "      <td>0.00</td>\n",
       "      <td>10.32</td>\n",
       "      <td>47.20</td>\n",
       "      <td>0.00</td>\n",
       "      <td>10.32</td>\n",
       "      <td>0.00</td>\n",
       "      <td>20.64</td>\n",
       "      <td>26.56</td>\n",
       "    </tr>\n",
       "    <tr>\n",
       "      <th>116</th>\n",
       "      <td>be71e684c855c31d9f327b4450ff0df0b42fe5d30ba29a...</td>\n",
       "      <td>2021-12-12 19:36:00.358</td>\n",
       "      <td>2</td>\n",
       "      <td>26.00</td>\n",
       "      <td>26.00</td>\n",
       "      <td>14.62</td>\n",
       "      <td>0.00</td>\n",
       "      <td>11.38</td>\n",
       "      <td>52.00</td>\n",
       "      <td>0.00</td>\n",
       "      <td>11.38</td>\n",
       "      <td>0.00</td>\n",
       "      <td>22.76</td>\n",
       "      <td>29.24</td>\n",
       "    </tr>\n",
       "    <tr>\n",
       "      <th>117</th>\n",
       "      <td>2eb02c31369dc7f848af5267f3858e5d3573dfedc3ea4a...</td>\n",
       "      <td>2021-11-24 18:53:18.499</td>\n",
       "      <td>1</td>\n",
       "      <td>24.00</td>\n",
       "      <td>24.00</td>\n",
       "      <td>14.31</td>\n",
       "      <td>0.00</td>\n",
       "      <td>9.69</td>\n",
       "      <td>24.00</td>\n",
       "      <td>0.00</td>\n",
       "      <td>9.69</td>\n",
       "      <td>0.00</td>\n",
       "      <td>9.69</td>\n",
       "      <td>14.31</td>\n",
       "    </tr>\n",
       "    <tr>\n",
       "      <th>118</th>\n",
       "      <td>2eb02c31369dc7f848af5267f3858e5d3573dfedc3ea4a...</td>\n",
       "      <td>2021-11-24 18:53:18.499</td>\n",
       "      <td>1</td>\n",
       "      <td>26.00</td>\n",
       "      <td>26.00</td>\n",
       "      <td>17.55</td>\n",
       "      <td>0.00</td>\n",
       "      <td>8.45</td>\n",
       "      <td>26.00</td>\n",
       "      <td>0.00</td>\n",
       "      <td>8.45</td>\n",
       "      <td>0.00</td>\n",
       "      <td>8.45</td>\n",
       "      <td>17.55</td>\n",
       "    </tr>\n",
       "    <tr>\n",
       "      <th>119</th>\n",
       "      <td>2eb02c31369dc7f848af5267f3858e5d3573dfedc3ea4a...</td>\n",
       "      <td>2021-11-24 18:53:18.499</td>\n",
       "      <td>1</td>\n",
       "      <td>18.00</td>\n",
       "      <td>18.00</td>\n",
       "      <td>12.15</td>\n",
       "      <td>0.00</td>\n",
       "      <td>5.85</td>\n",
       "      <td>18.00</td>\n",
       "      <td>0.00</td>\n",
       "      <td>5.85</td>\n",
       "      <td>0.00</td>\n",
       "      <td>5.85</td>\n",
       "      <td>12.15</td>\n",
       "    </tr>\n",
       "  </tbody>\n",
       "</table>\n",
       "<p>120 rows × 14 columns</p>\n",
       "</div>"
      ],
      "text/plain": [
       "                                              ORDER_ID  \\\n",
       "0    7443b376d2feddcd3442fa30a9fc21985583de357cb8b1...   \n",
       "1    c8bcfb78282fb82a4c619030b4f6935f6eb4931fefba72...   \n",
       "2    094d9ee5570b1c94a9eca44b9d7d2c01c1f90e06db4a0f...   \n",
       "3    094d9ee5570b1c94a9eca44b9d7d2c01c1f90e06db4a0f...   \n",
       "4    7102b1654de75cd9cfeb19a143e9cdd433a468f1f91660...   \n",
       "..                                                 ...   \n",
       "115  be71e684c855c31d9f327b4450ff0df0b42fe5d30ba29a...   \n",
       "116  be71e684c855c31d9f327b4450ff0df0b42fe5d30ba29a...   \n",
       "117  2eb02c31369dc7f848af5267f3858e5d3573dfedc3ea4a...   \n",
       "118  2eb02c31369dc7f848af5267f3858e5d3573dfedc3ea4a...   \n",
       "119  2eb02c31369dc7f848af5267f3858e5d3573dfedc3ea4a...   \n",
       "\n",
       "            ORDER_TIMESTAMP  UNIT_QUANTITY  UNIT_LIST_PRICE  \\\n",
       "0   2024-12-29 23:01:32.258              1            54.01   \n",
       "1   2024-12-29 21:19:26.536              1           108.01   \n",
       "2   2024-12-29 18:48:24.002              1           108.01   \n",
       "3   2024-12-29 18:48:24.002              1            56.40   \n",
       "4   2024-11-21 21:14:58.840              2            33.00   \n",
       "..                      ...            ...              ...   \n",
       "115 2021-12-12 19:36:00.358              2            23.60   \n",
       "116 2021-12-12 19:36:00.358              2            26.00   \n",
       "117 2021-11-24 18:53:18.499              1            24.00   \n",
       "118 2021-11-24 18:53:18.499              1            26.00   \n",
       "119 2021-11-24 18:53:18.499              1            18.00   \n",
       "\n",
       "     UNIT_OFFERED_PRICE  UNIT_CHARGED_PRICE  UNIT_DELIVERY_PRICE  \\\n",
       "0                 41.90               41.90                 4.90   \n",
       "1                 94.91               94.91                 3.90   \n",
       "2                 94.91               94.91                 2.57   \n",
       "3                 48.90               48.90                 1.33   \n",
       "4                 29.90               29.90                 2.90   \n",
       "..                  ...                 ...                  ...   \n",
       "115               23.60               13.28                 0.00   \n",
       "116               26.00               14.62                 0.00   \n",
       "117               24.00               14.31                 0.00   \n",
       "118               26.00               17.55                 0.00   \n",
       "119               18.00               12.15                 0.00   \n",
       "\n",
       "     UNIT_DISCOUNT  UNIT_GROSS  UNIT_ORGANIC_DISCOUNT  UNIT_EXTRA_DISCOUNT  \\\n",
       "0             0.00       58.91                  12.11                 0.00   \n",
       "1             0.00      111.91                  13.10                 0.00   \n",
       "2             0.00      110.58                  13.10                 0.00   \n",
       "3             0.00       57.73                   7.50                 0.00   \n",
       "4             0.00       68.90                   3.10                 0.00   \n",
       "..             ...         ...                    ...                  ...   \n",
       "115          10.32       47.20                   0.00                10.32   \n",
       "116          11.38       52.00                   0.00                11.38   \n",
       "117           9.69       24.00                   0.00                 9.69   \n",
       "118           8.45       26.00                   0.00                 8.45   \n",
       "119           5.85       18.00                   0.00                 5.85   \n",
       "\n",
       "     UNIT_ORGANIC_DISCOUNT_TOTAL  UNIT_EXTRA_DISCOUNT_TOTAL  UNIT_NET  \n",
       "0                          12.11                       0.00     46.80  \n",
       "1                          13.10                       0.00     98.81  \n",
       "2                          13.10                       0.00     97.48  \n",
       "3                           7.50                       0.00     50.23  \n",
       "4                           6.20                       0.00     62.70  \n",
       "..                           ...                        ...       ...  \n",
       "115                         0.00                      20.64     26.56  \n",
       "116                         0.00                      22.76     29.24  \n",
       "117                         0.00                       9.69     14.31  \n",
       "118                         0.00                       8.45     17.55  \n",
       "119                         0.00                       5.85     12.15  \n",
       "\n",
       "[120 rows x 14 columns]"
      ]
     },
     "execution_count": 37,
     "metadata": {},
     "output_type": "execute_result"
    }
   ],
   "source": [
    "sample_order = duckdb.query(\"\"\"\n",
    "SELECT \n",
    "    ORDER_ID\n",
    "    , ORDER_TIMESTAMP\n",
    "    , UNIT_QUANTITY\n",
    "    , UNIT_LIST_PRICE\n",
    "    , UNIT_OFFERED_PRICE\n",
    "    , UNIT_CHARGED_PRICE\n",
    "    , UNIT_DELIVERY_PRICE\n",
    "    , UNIT_DISCOUNT\n",
    "    , UNIT_GROSS\n",
    "    , (UNIT_LIST_PRICE - UNIT_OFFERED_PRICE) AS UNIT_ORGANIC_DISCOUNT\n",
    "    , (UNIT_OFFERED_PRICE - UNIT_CHARGED_PRICE) AS UNIT_EXTRA_DISCOUNT\n",
    "    , (UNIT_LIST_PRICE - UNIT_OFFERED_PRICE) * UNIT_QUANTITY AS UNIT_ORGANIC_DISCOUNT_TOTAL\n",
    "    , (UNIT_OFFERED_PRICE - UNIT_CHARGED_PRICE) * UNIT_QUANTITY AS UNIT_EXTRA_DISCOUNT_TOTAL\n",
    "    , UNIT_NET\n",
    "FROM order_details\n",
    "WHERE true\n",
    "AND CUSTOMER_ID = '5e9fbcf540e7164b5f8a649a719defcfc53c31ae992418c33793bc2058bd5583'\n",
    "ORDER BY ORDER_TIMESTAMP DESC\n",
    "\"\"\").to_df()\n",
    "sample_order"
   ]
  },
  {
   "cell_type": "code",
   "execution_count": 38,
   "id": "f181f4d3",
   "metadata": {},
   "outputs": [],
   "source": [
    "# Compute discount columns\n",
    "order_details['UNIT_ORGANIC_DISCOUNT'] = order_details['UNIT_LIST_PRICE'] - order_details['UNIT_OFFERED_PRICE']\n",
    "order_details['UNIT_EXTRA_DISCOUNT'] = order_details['UNIT_OFFERED_PRICE'] - order_details['UNIT_CHARGED_PRICE']\n",
    "order_details['UNIT_TOTAL_ORGANIC_DISCOUNT'] = order_details['UNIT_ORGANIC_DISCOUNT'] * order_details['UNIT_QUANTITY']\n",
    "order_details['UNIT_TOTAL_EXTRA_DISCOUNT'] = order_details['UNIT_EXTRA_DISCOUNT'] * order_details['UNIT_QUANTITY']\n",
    "order_details['UNIT_TOTAL_DISCOUNTS'] = order_details['UNIT_TOTAL_ORGANIC_DISCOUNT'] + order_details['UNIT_TOTAL_EXTRA_DISCOUNT']"
   ]
  },
  {
   "cell_type": "code",
   "execution_count": 39,
   "id": "496a5584",
   "metadata": {},
   "outputs": [
    {
     "data": {
      "text/plain": [
       "(2040962, 50)"
      ]
     },
     "execution_count": 39,
     "metadata": {},
     "output_type": "execute_result"
    }
   ],
   "source": [
    "order_details.shape"
   ]
  },
  {
   "cell_type": "code",
   "execution_count": 40,
   "id": "f7baa15e",
   "metadata": {},
   "outputs": [
    {
     "name": "stdout",
     "output_type": "stream",
     "text": [
      "1818987\n",
      "221975\n"
     ]
    }
   ],
   "source": [
    "print(order_details[order_details['ORDER_STATE_FINAL']=='Valid'].shape[0])\n",
    "print(order_details[order_details['ORDER_STATE_FINAL']=='Invalid'].shape[0])"
   ]
  },
  {
   "cell_type": "code",
   "execution_count": 41,
   "id": "2a284b58",
   "metadata": {},
   "outputs": [],
   "source": [
    "valid_orders = order_details[order_details['ORDER_STATE_FINAL']=='Valid']"
   ]
  },
  {
   "cell_type": "code",
   "execution_count": 42,
   "id": "e64fde9e",
   "metadata": {},
   "outputs": [
    {
     "data": {
      "text/plain": [
       "223393"
      ]
     },
     "execution_count": 42,
     "metadata": {},
     "output_type": "execute_result"
    }
   ],
   "source": [
    "valid_orders.CUSTOMER_ID.unique().shape[0]"
   ]
  },
  {
   "cell_type": "markdown",
   "id": "658f27ef",
   "metadata": {},
   "source": [
    "## RFM CALCULATION\n"
   ]
  },
  {
   "cell_type": "code",
   "execution_count": 43,
   "id": "785b3042",
   "metadata": {},
   "outputs": [],
   "source": [
    "# Aggregate per CUSTOMER_ID only for VALID orders\n",
    "reference_date = order_details['ORDER_DATE'].max()\n",
    "\n",
    "# RFM & Enhanced Metrics\n",
    "rfm_df = valid_orders.groupby(['CUSTOMER_ID']).agg(\n",
    "    Recency=('ORDER_DATE', lambda x: (reference_date - x.max()).days),\n",
    "    Frequency=('ORDER_ID', 'nunique'),\n",
    "    Monetary=('UNIT_NET', 'sum'),\n",
    "    Total_Units=('UNIT_QUANTITY', 'sum'),\n",
    "    Total_Organic_Discount=('UNIT_TOTAL_ORGANIC_DISCOUNT', 'sum'),\n",
    "    Total_Extra_Discount=('UNIT_TOTAL_EXTRA_DISCOUNT', 'sum'),\n",
    "    Total_Discounts=('UNIT_TOTAL_DISCOUNTS', 'sum')\n",
    ").reset_index()\n",
    "\n",
    "# rfm_df['Churn_Label'] = (rfm_df['Recency'] > 60).astype(int) "
   ]
  },
  {
   "cell_type": "code",
   "execution_count": 44,
   "id": "0310a1f5",
   "metadata": {},
   "outputs": [],
   "source": [
    "# Step 1: Aggregate per ORDER_ID and CUSTOMER_ID to get per-order metrics first\n",
    "order_level = valid_orders.groupby(['CUSTOMER_ID', 'ORDER_ID']).agg(\n",
    "    # Discounts aggregation\n",
    "    ORDER_TOTAL_ORGANIC_DISCOUNT=('UNIT_TOTAL_ORGANIC_DISCOUNT', 'sum'),\n",
    "    ORDER_TOTAL_ORGANIC_USED_DISCOUNT=('UNIT_TOTAL_ORGANIC_DISCOUNT', lambda x: int(x.sum() > 0)),\n",
    "    ORDER_TOTAL_EXTRA_DISCOUNT=('UNIT_TOTAL_EXTRA_DISCOUNT','sum'),\n",
    "    ORDER_TOTAL_EXTRA_USED_DISCOUNT=('UNIT_TOTAL_EXTRA_DISCOUNT', lambda x: int(x.sum() > 0)),\n",
    "    ORDER_TOTAL_DISCOUNT=('UNIT_TOTAL_DISCOUNTS', 'sum'),\n",
    "    ORDER_TOTAL_USED_DISCOUNT=('UNIT_TOTAL_DISCOUNTS', lambda x: int(x.sum() > 0)),\n",
    "    # SKU metrics\n",
    "    ORDER_UNIT_QUANTITY=('UNIT_QUANTITY', 'sum'),\n",
    "    ORDER_IS_BULK=('UNIT_QUANTITY', lambda x: int(x.sum() > 2)),\n",
    "    ORDER_IS_BUNDLE=('SKU_IS_BUNDLE', lambda x: (x == 1).any()),\n",
    "    # OTHER METRICS\n",
    "    STORE=('STORE_NAME', lambda x: x.unique()[0]),\n",
    "    STORE_TYPE=('PREFIX', lambda x: x.unique()[0]),\n",
    "    PAYMENT_METHOD=('PAYMENT_METHOD', lambda x: x.unique()[0])\n",
    ").reset_index()\n",
    "\n",
    "# Step 2: Aggregate per CUSTOMER_ID from per-order metrics\n",
    "behavioral_df = order_level.groupby('CUSTOMER_ID').agg(\n",
    "    # Discounts aggregatins per customer\n",
    "    AVG_ORGANIC_DISCOUNT_PER_ORDER=('ORDER_TOTAL_ORGANIC_DISCOUNT', 'mean'),\n",
    "    USED_ORGANIC_DISCOUNT_RATIO=('ORDER_TOTAL_ORGANIC_USED_DISCOUNT', 'mean'),\n",
    "    AVG_EXTRA_DISCOUNT_PER_ORDER=('ORDER_TOTAL_EXTRA_DISCOUNT', 'mean'),\n",
    "    USED_EXTRA_DISCOUNT_RATIO=('ORDER_TOTAL_EXTRA_USED_DISCOUNT', 'mean'),\n",
    "    AVG_TOTAL_DISCOUNT_PER_ORDER=('ORDER_TOTAL_DISCOUNT', 'mean'),\n",
    "    USED_TOTAL_DISCOUNT_RATIO=('ORDER_TOTAL_USED_DISCOUNT', 'mean'),\n",
    "    # SKU metrics per customer\n",
    "    AVG_UNIT_QUANTITY_PER_ORDER=('ORDER_UNIT_QUANTITY', 'mean'),\n",
    "    IS_BULK_BUYER=('ORDER_IS_BULK', 'mean'),\n",
    "    BUNDLE_PURCHASE_RATIO=('ORDER_IS_BUNDLE', 'mean'),\n",
    "    # OTHER METRICS\n",
    "    FAVOURITE_STORE=('STORE', lambda x: x.mode().iloc[0] if not x.mode().empty else 'Unknown'),\n",
    "    FAVOURITE_STORE_TYPE=('STORE_TYPE', lambda x: x.mode().iloc[0] if not x.mode().empty else 'Unknown'),\n",
    "    FAVOURITE_PAYMENT_METHOD=('PAYMENT_METHOD', lambda x: x.mode().iloc[0] if not x.mode().empty else 'Unknown')\n",
    ").reset_index()\n",
    "\n",
    "# Step 3: Add category diversity and favorite category at SKU level\n",
    "category_features = valid_orders.groupby('CUSTOMER_ID').agg(\n",
    "    CATEGORY_DIVERSITY=('SKU_CATEGORY', pd.Series.nunique),\n",
    "    FAVORITE_CATEGORY=('SKU_CATEGORY', lambda x: x.mode().iloc[0] if not x.mode().empty else 'Unknown'),\n",
    "    SUB_CATEGORY_DIVERSITY=('SKU_SUBCATEGORY', pd.Series.nunique),\n",
    "    FAVORITE_SUB_CATEGORY=('SKU_SUBCATEGORY', lambda x: x.mode().iloc[0] if not x.mode().empty else 'Unknown'),\n",
    "    # FAVORITE_CONTAINTER\n",
    ").reset_index()\n",
    "\n",
    "behavioral_df = behavioral_df.merge(category_features, on='CUSTOMER_ID', how='left')"
   ]
  },
  {
   "cell_type": "code",
   "execution_count": 45,
   "id": "8e7c74df",
   "metadata": {},
   "outputs": [],
   "source": [
    "rfm_df = pd.merge(rfm_df, behavioral_df, on='CUSTOMER_ID', how='left')"
   ]
  },
  {
   "cell_type": "markdown",
   "id": "529459b1",
   "metadata": {},
   "source": [
    "## OPERATIONAL FEATURES\n"
   ]
  },
  {
   "cell_type": "code",
   "execution_count": 46,
   "id": "732b4af9",
   "metadata": {},
   "outputs": [],
   "source": [
    "operation_details['WEEKDAY'] = operation_details['ORDER_DATE'].dt.day_name()\n",
    "operation_details['HOUR'] = operation_details['ORDER_TIME'].dt.hour"
   ]
  },
  {
   "cell_type": "code",
   "execution_count": 47,
   "id": "da8f3550",
   "metadata": {},
   "outputs": [],
   "source": [
    "valid_orders_operations = operation_details[operation_details['ORDER_STATE_FINAL']=='Valid']"
   ]
  },
  {
   "cell_type": "code",
   "execution_count": 48,
   "id": "faf5d320",
   "metadata": {},
   "outputs": [],
   "source": [
    "# Calculate operational features per CUSTOMER_ID\n",
    "operational_features = valid_orders_operations.groupby('CUSTOMER_ID').agg(\n",
    "    AVG_DELIVERY_TIME=('DELIVERY_TIME', 'mean'),\n",
    "    SLA_VIOLATION_RATE=('WITHIN_SLA', lambda x: (x == 0).sum() / len(x)),\n",
    "    AVG_APPROVAL_TIME=('APPROVAL_TIME', 'mean'),\n",
    "    AVG_TOTAL_DISTANCE=('TOTAL_DISTANCE', 'mean'),\n",
    "    FAVORITE_WEEKDAY=('WEEKDAY', lambda x: x.mode()[0] if not x.mode().empty else 'Unknown'),\n",
    "    FAVORITE_HOUR=('HOUR', lambda x: x.mode()[0] if not x.mode().empty else -1)\n",
    ").reset_index()"
   ]
  },
  {
   "cell_type": "code",
   "execution_count": 49,
   "id": "a286cf83",
   "metadata": {},
   "outputs": [],
   "source": [
    "extended_rfm_df = rfm_df.merge(operational_features, on='CUSTOMER_ID', how='left')"
   ]
  },
  {
   "cell_type": "code",
   "execution_count": 50,
   "id": "7489bf22",
   "metadata": {},
   "outputs": [],
   "source": [
    "extended_rfm_df.to_parquet(\"../csv_export/RFM.parquet\", index=False)"
   ]
  },
  {
   "cell_type": "code",
   "execution_count": 51,
   "id": "826254eb",
   "metadata": {},
   "outputs": [
    {
     "data": {
      "application/vnd.microsoft.datawrangler.viewer.v0+json": {
       "columns": [
        {
         "name": "index",
         "rawType": "int64",
         "type": "integer"
        },
        {
         "name": "CUSTOMER_ID",
         "rawType": "object",
         "type": "string"
        },
        {
         "name": "Recency",
         "rawType": "int64",
         "type": "integer"
        },
        {
         "name": "Frequency",
         "rawType": "int64",
         "type": "integer"
        },
        {
         "name": "Monetary",
         "rawType": "float64",
         "type": "float"
        },
        {
         "name": "Total_Units",
         "rawType": "int64",
         "type": "integer"
        },
        {
         "name": "Total_Organic_Discount",
         "rawType": "float64",
         "type": "float"
        },
        {
         "name": "Total_Extra_Discount",
         "rawType": "float64",
         "type": "float"
        },
        {
         "name": "Total_Discounts",
         "rawType": "float64",
         "type": "float"
        },
        {
         "name": "AVG_ORGANIC_DISCOUNT_PER_ORDER",
         "rawType": "float64",
         "type": "float"
        },
        {
         "name": "USED_ORGANIC_DISCOUNT_RATIO",
         "rawType": "float64",
         "type": "float"
        },
        {
         "name": "AVG_EXTRA_DISCOUNT_PER_ORDER",
         "rawType": "float64",
         "type": "float"
        },
        {
         "name": "USED_EXTRA_DISCOUNT_RATIO",
         "rawType": "float64",
         "type": "float"
        },
        {
         "name": "AVG_TOTAL_DISCOUNT_PER_ORDER",
         "rawType": "float64",
         "type": "float"
        },
        {
         "name": "USED_TOTAL_DISCOUNT_RATIO",
         "rawType": "float64",
         "type": "float"
        },
        {
         "name": "AVG_UNIT_QUANTITY_PER_ORDER",
         "rawType": "float64",
         "type": "float"
        },
        {
         "name": "IS_BULK_BUYER",
         "rawType": "float64",
         "type": "float"
        },
        {
         "name": "BUNDLE_PURCHASE_RATIO",
         "rawType": "float64",
         "type": "float"
        },
        {
         "name": "FAVOURITE_STORE",
         "rawType": "object",
         "type": "string"
        },
        {
         "name": "FAVOURITE_STORE_TYPE",
         "rawType": "object",
         "type": "string"
        },
        {
         "name": "FAVOURITE_PAYMENT_METHOD",
         "rawType": "object",
         "type": "string"
        },
        {
         "name": "CATEGORY_DIVERSITY",
         "rawType": "int64",
         "type": "integer"
        },
        {
         "name": "FAVORITE_CATEGORY",
         "rawType": "object",
         "type": "string"
        },
        {
         "name": "SUB_CATEGORY_DIVERSITY",
         "rawType": "int64",
         "type": "integer"
        },
        {
         "name": "FAVORITE_SUB_CATEGORY",
         "rawType": "object",
         "type": "string"
        },
        {
         "name": "AVG_DELIVERY_TIME",
         "rawType": "float64",
         "type": "float"
        },
        {
         "name": "SLA_VIOLATION_RATE",
         "rawType": "float64",
         "type": "float"
        },
        {
         "name": "AVG_APPROVAL_TIME",
         "rawType": "float64",
         "type": "float"
        },
        {
         "name": "AVG_TOTAL_DISTANCE",
         "rawType": "float64",
         "type": "float"
        },
        {
         "name": "FAVORITE_WEEKDAY",
         "rawType": "object",
         "type": "string"
        },
        {
         "name": "FAVORITE_HOUR",
         "rawType": "int32",
         "type": "integer"
        }
       ],
       "ref": "632f77f2-8a51-4698-92f9-39f205cba5b3",
       "rows": [
        [
         "0",
         "00002b303bd5e3641c7deb26f7a66bd83b202c4da03b08492f3625456e5c1862",
         "487",
         "1",
         "61.39",
         "1",
         "19.11",
         "0.0",
         "19.11",
         "19.11",
         "1.0",
         "0.0",
         "0.0",
         "19.11",
         "1.0",
         "1.0",
         "0.0",
         "0.0",
         "Dili",
         "DS",
         "E WALLET",
         "1",
         "Beer",
         "1",
         "Beer",
         "31.0",
         "0.0",
         "0.0",
         "0.0089827972839178",
         "Thursday",
         "12"
        ],
        [
         "1",
         "00008655ece97d61c76ec17e483ac6fd7813e5a15c498a678b2fff79251ff155",
         "3",
         "5",
         "670.8799",
         "6",
         "86.53000000000003",
         "41.77009999999999",
         "128.30010000000001",
         "17.306000000000004",
         "1.0",
         "8.354019999999998",
         "1.0",
         "25.660020000000003",
         "1.0",
         "1.2",
         "0.0",
         "0.0",
         "Hybrid",
         "DS",
         "CASH",
         "2",
         "Beer",
         "2",
         "Beer",
         "29.8",
         "0.0",
         "0.0",
         "0.06499141030121518",
         "Monday",
         "11"
        ],
        [
         "2",
         "0000bc0f1d0509b07a0472ce0be544d25e1d90a83dcf3a63168101047be80611",
         "109",
         "7",
         "610.51",
         "16",
         "2.59",
         "107.0",
         "109.59",
         "0.37",
         "0.14285714285714285",
         "15.285714285714286",
         "0.8571428571428571",
         "15.655714285714286",
         "1.0",
         "2.2857142857142856",
         "0.2857142857142857",
         "0.0",
         "Quito",
         "ST",
         "ONLINE_PAYMENTS",
         "2",
         "Beer",
         "2",
         "Beer",
         "23.0",
         "0.0",
         "1.2857142857142858",
         "0.04537478818700145",
         "Saturday",
         "13"
        ],
        [
         "3",
         "0000d61a21fef1a1a0be35e5ad84acaad0af9039d7096a0ba1d5d1d232422f21",
         "491",
         "1",
         "30.3882",
         "1",
         "4.0",
         "0.011799999999997368",
         "4.011799999999997",
         "4.0",
         "1.0",
         "0.011799999999997368",
         "1.0",
         "4.011799999999997",
         "1.0",
         "1.0",
         "0.0",
         "0.0",
         "Conakry",
         "ST",
         "CARD",
         "1",
         "Beer",
         "1",
         "Beer",
         "9.0",
         "0.0",
         "0.0",
         "0.007808729172563",
         "Sunday",
         "13"
        ],
        [
         "4",
         "00013de18abb79cce6126077cdd1911d5e02141dc1b5d9c7e22852d399afbefc",
         "44",
         "27",
         "2187.3447",
         "55",
         "320.9",
         "85.10530000000001",
         "406.0053",
         "11.885185185185184",
         "0.7037037037037037",
         "3.1520481481481486",
         "0.2222222222222222",
         "15.037233333333333",
         "0.8888888888888888",
         "2.037037037037037",
         "0.2962962962962963",
         "0.07407407407407407",
         "Maseru",
         "DS",
         "CARD",
         "5",
         "Beer",
         "7",
         "Beer",
         "21.555555555555557",
         "0.037037037037037035",
         "1.0740740740740742",
         "0.12191707765244064",
         "Saturday",
         "0"
        ]
       ],
       "shape": {
        "columns": 30,
        "rows": 5
       }
      },
      "text/html": [
       "<div>\n",
       "<style scoped>\n",
       "    .dataframe tbody tr th:only-of-type {\n",
       "        vertical-align: middle;\n",
       "    }\n",
       "\n",
       "    .dataframe tbody tr th {\n",
       "        vertical-align: top;\n",
       "    }\n",
       "\n",
       "    .dataframe thead th {\n",
       "        text-align: right;\n",
       "    }\n",
       "</style>\n",
       "<table border=\"1\" class=\"dataframe\">\n",
       "  <thead>\n",
       "    <tr style=\"text-align: right;\">\n",
       "      <th></th>\n",
       "      <th>CUSTOMER_ID</th>\n",
       "      <th>Recency</th>\n",
       "      <th>Frequency</th>\n",
       "      <th>Monetary</th>\n",
       "      <th>Total_Units</th>\n",
       "      <th>Total_Organic_Discount</th>\n",
       "      <th>Total_Extra_Discount</th>\n",
       "      <th>Total_Discounts</th>\n",
       "      <th>AVG_ORGANIC_DISCOUNT_PER_ORDER</th>\n",
       "      <th>USED_ORGANIC_DISCOUNT_RATIO</th>\n",
       "      <th>...</th>\n",
       "      <th>CATEGORY_DIVERSITY</th>\n",
       "      <th>FAVORITE_CATEGORY</th>\n",
       "      <th>SUB_CATEGORY_DIVERSITY</th>\n",
       "      <th>FAVORITE_SUB_CATEGORY</th>\n",
       "      <th>AVG_DELIVERY_TIME</th>\n",
       "      <th>SLA_VIOLATION_RATE</th>\n",
       "      <th>AVG_APPROVAL_TIME</th>\n",
       "      <th>AVG_TOTAL_DISTANCE</th>\n",
       "      <th>FAVORITE_WEEKDAY</th>\n",
       "      <th>FAVORITE_HOUR</th>\n",
       "    </tr>\n",
       "  </thead>\n",
       "  <tbody>\n",
       "    <tr>\n",
       "      <th>0</th>\n",
       "      <td>00002b303bd5e3641c7deb26f7a66bd83b202c4da03b08...</td>\n",
       "      <td>487</td>\n",
       "      <td>1</td>\n",
       "      <td>61.3900</td>\n",
       "      <td>1</td>\n",
       "      <td>19.11</td>\n",
       "      <td>0.0000</td>\n",
       "      <td>19.1100</td>\n",
       "      <td>19.110000</td>\n",
       "      <td>1.000000</td>\n",
       "      <td>...</td>\n",
       "      <td>1</td>\n",
       "      <td>Beer</td>\n",
       "      <td>1</td>\n",
       "      <td>Beer</td>\n",
       "      <td>31.000000</td>\n",
       "      <td>0.000000</td>\n",
       "      <td>0.000000</td>\n",
       "      <td>0.008983</td>\n",
       "      <td>Thursday</td>\n",
       "      <td>12</td>\n",
       "    </tr>\n",
       "    <tr>\n",
       "      <th>1</th>\n",
       "      <td>00008655ece97d61c76ec17e483ac6fd7813e5a15c498a...</td>\n",
       "      <td>3</td>\n",
       "      <td>5</td>\n",
       "      <td>670.8799</td>\n",
       "      <td>6</td>\n",
       "      <td>86.53</td>\n",
       "      <td>41.7701</td>\n",
       "      <td>128.3001</td>\n",
       "      <td>17.306000</td>\n",
       "      <td>1.000000</td>\n",
       "      <td>...</td>\n",
       "      <td>2</td>\n",
       "      <td>Beer</td>\n",
       "      <td>2</td>\n",
       "      <td>Beer</td>\n",
       "      <td>29.800000</td>\n",
       "      <td>0.000000</td>\n",
       "      <td>0.000000</td>\n",
       "      <td>0.064991</td>\n",
       "      <td>Monday</td>\n",
       "      <td>11</td>\n",
       "    </tr>\n",
       "    <tr>\n",
       "      <th>2</th>\n",
       "      <td>0000bc0f1d0509b07a0472ce0be544d25e1d90a83dcf3a...</td>\n",
       "      <td>109</td>\n",
       "      <td>7</td>\n",
       "      <td>610.5100</td>\n",
       "      <td>16</td>\n",
       "      <td>2.59</td>\n",
       "      <td>107.0000</td>\n",
       "      <td>109.5900</td>\n",
       "      <td>0.370000</td>\n",
       "      <td>0.142857</td>\n",
       "      <td>...</td>\n",
       "      <td>2</td>\n",
       "      <td>Beer</td>\n",
       "      <td>2</td>\n",
       "      <td>Beer</td>\n",
       "      <td>23.000000</td>\n",
       "      <td>0.000000</td>\n",
       "      <td>1.285714</td>\n",
       "      <td>0.045375</td>\n",
       "      <td>Saturday</td>\n",
       "      <td>13</td>\n",
       "    </tr>\n",
       "    <tr>\n",
       "      <th>3</th>\n",
       "      <td>0000d61a21fef1a1a0be35e5ad84acaad0af9039d7096a...</td>\n",
       "      <td>491</td>\n",
       "      <td>1</td>\n",
       "      <td>30.3882</td>\n",
       "      <td>1</td>\n",
       "      <td>4.00</td>\n",
       "      <td>0.0118</td>\n",
       "      <td>4.0118</td>\n",
       "      <td>4.000000</td>\n",
       "      <td>1.000000</td>\n",
       "      <td>...</td>\n",
       "      <td>1</td>\n",
       "      <td>Beer</td>\n",
       "      <td>1</td>\n",
       "      <td>Beer</td>\n",
       "      <td>9.000000</td>\n",
       "      <td>0.000000</td>\n",
       "      <td>0.000000</td>\n",
       "      <td>0.007809</td>\n",
       "      <td>Sunday</td>\n",
       "      <td>13</td>\n",
       "    </tr>\n",
       "    <tr>\n",
       "      <th>4</th>\n",
       "      <td>00013de18abb79cce6126077cdd1911d5e02141dc1b5d9...</td>\n",
       "      <td>44</td>\n",
       "      <td>27</td>\n",
       "      <td>2187.3447</td>\n",
       "      <td>55</td>\n",
       "      <td>320.90</td>\n",
       "      <td>85.1053</td>\n",
       "      <td>406.0053</td>\n",
       "      <td>11.885185</td>\n",
       "      <td>0.703704</td>\n",
       "      <td>...</td>\n",
       "      <td>5</td>\n",
       "      <td>Beer</td>\n",
       "      <td>7</td>\n",
       "      <td>Beer</td>\n",
       "      <td>21.555556</td>\n",
       "      <td>0.037037</td>\n",
       "      <td>1.074074</td>\n",
       "      <td>0.121917</td>\n",
       "      <td>Saturday</td>\n",
       "      <td>0</td>\n",
       "    </tr>\n",
       "  </tbody>\n",
       "</table>\n",
       "<p>5 rows × 30 columns</p>\n",
       "</div>"
      ],
      "text/plain": [
       "                                         CUSTOMER_ID  Recency  Frequency  \\\n",
       "0  00002b303bd5e3641c7deb26f7a66bd83b202c4da03b08...      487          1   \n",
       "1  00008655ece97d61c76ec17e483ac6fd7813e5a15c498a...        3          5   \n",
       "2  0000bc0f1d0509b07a0472ce0be544d25e1d90a83dcf3a...      109          7   \n",
       "3  0000d61a21fef1a1a0be35e5ad84acaad0af9039d7096a...      491          1   \n",
       "4  00013de18abb79cce6126077cdd1911d5e02141dc1b5d9...       44         27   \n",
       "\n",
       "    Monetary  Total_Units  Total_Organic_Discount  Total_Extra_Discount  \\\n",
       "0    61.3900            1                   19.11                0.0000   \n",
       "1   670.8799            6                   86.53               41.7701   \n",
       "2   610.5100           16                    2.59              107.0000   \n",
       "3    30.3882            1                    4.00                0.0118   \n",
       "4  2187.3447           55                  320.90               85.1053   \n",
       "\n",
       "   Total_Discounts  AVG_ORGANIC_DISCOUNT_PER_ORDER  \\\n",
       "0          19.1100                       19.110000   \n",
       "1         128.3001                       17.306000   \n",
       "2         109.5900                        0.370000   \n",
       "3           4.0118                        4.000000   \n",
       "4         406.0053                       11.885185   \n",
       "\n",
       "   USED_ORGANIC_DISCOUNT_RATIO  ...  CATEGORY_DIVERSITY  FAVORITE_CATEGORY  \\\n",
       "0                     1.000000  ...                   1               Beer   \n",
       "1                     1.000000  ...                   2               Beer   \n",
       "2                     0.142857  ...                   2               Beer   \n",
       "3                     1.000000  ...                   1               Beer   \n",
       "4                     0.703704  ...                   5               Beer   \n",
       "\n",
       "   SUB_CATEGORY_DIVERSITY  FAVORITE_SUB_CATEGORY  AVG_DELIVERY_TIME  \\\n",
       "0                       1                   Beer          31.000000   \n",
       "1                       2                   Beer          29.800000   \n",
       "2                       2                   Beer          23.000000   \n",
       "3                       1                   Beer           9.000000   \n",
       "4                       7                   Beer          21.555556   \n",
       "\n",
       "   SLA_VIOLATION_RATE  AVG_APPROVAL_TIME AVG_TOTAL_DISTANCE FAVORITE_WEEKDAY  \\\n",
       "0            0.000000           0.000000           0.008983         Thursday   \n",
       "1            0.000000           0.000000           0.064991           Monday   \n",
       "2            0.000000           1.285714           0.045375         Saturday   \n",
       "3            0.000000           0.000000           0.007809           Sunday   \n",
       "4            0.037037           1.074074           0.121917         Saturday   \n",
       "\n",
       "  FAVORITE_HOUR  \n",
       "0            12  \n",
       "1            11  \n",
       "2            13  \n",
       "3            13  \n",
       "4             0  \n",
       "\n",
       "[5 rows x 30 columns]"
      ]
     },
     "execution_count": 51,
     "metadata": {},
     "output_type": "execute_result"
    }
   ],
   "source": [
    "extended_rfm_df.head()"
   ]
  }
 ],
 "metadata": {
  "kernelspec": {
   "display_name": "tf_env",
   "language": "python",
   "name": "python3"
  },
  "language_info": {
   "codemirror_mode": {
    "name": "ipython",
    "version": 3
   },
   "file_extension": ".py",
   "mimetype": "text/x-python",
   "name": "python",
   "nbconvert_exporter": "python",
   "pygments_lexer": "ipython3",
   "version": "3.12.7"
  }
 },
 "nbformat": 4,
 "nbformat_minor": 5
}
